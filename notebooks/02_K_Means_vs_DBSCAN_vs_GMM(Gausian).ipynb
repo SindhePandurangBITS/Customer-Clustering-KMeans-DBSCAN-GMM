{
  "nbformat": 4,
  "nbformat_minor": 0,
  "metadata": {
    "colab": {
      "provenance": []
    },
    "kernelspec": {
      "name": "python3",
      "display_name": "Python 3"
    },
    "language_info": {
      "name": "python"
    }
  },
  "cells": [
    {
      "cell_type": "markdown",
      "source": [],
      "metadata": {
        "id": "fLLLy8nFllnu"
      }
    },
    {
      "cell_type": "code",
      "source": [
        "from google.colab import drive\n",
        "drive.mount('/content/drive')"
      ],
      "metadata": {
        "colab": {
          "base_uri": "https://localhost:8080/"
        },
        "id": "nfGZna9EllPZ",
        "outputId": "1ffe03cb-035e-48c7-c8bc-57d5d6c1bdf8"
      },
      "execution_count": 6,
      "outputs": [
        {
          "output_type": "stream",
          "name": "stdout",
          "text": [
            "Mounted at /content/drive\n"
          ]
        }
      ]
    },
    {
      "cell_type": "code",
      "source": [
        "import pandas as pd\n",
        "df1 = pd.read_pickle('/content/drive/MyDrive/df1.pkl')"
      ],
      "metadata": {
        "id": "k9m0pDOBlq29"
      },
      "execution_count": 7,
      "outputs": []
    },
    {
      "cell_type": "markdown",
      "source": [
        "# 5. Feature Scaling and Dimentionality Reduction"
      ],
      "metadata": {
        "id": "zc67Wdhhj2Gh"
      }
    },
    {
      "cell_type": "code",
      "source": [
        "import numpy as np\n",
        "import matplotlib.pyplot as plt\n",
        "from sklearn.decomposition import PCA\n",
        "from sklearn.manifold import TSNE\n",
        "import matplotlib.pyplot as plt\n"
      ],
      "metadata": {
        "id": "uORr83iCkODX"
      },
      "execution_count": null,
      "outputs": []
    },
    {
      "cell_type": "code",
      "source": [
        "X = df1.drop(columns=['y'])\n",
        "y = df1['y']"
      ],
      "metadata": {
        "id": "GCwvv0Pej4lu"
      },
      "execution_count": 9,
      "outputs": []
    },
    {
      "cell_type": "code",
      "source": [
        "from sklearn.preprocessing import StandardScaler\n",
        "\n",
        "feature_cols = [c for c in df1.columns if c != 'y']\n",
        "\n",
        "scaler = StandardScaler()\n",
        "X_scaled = scaler.fit_transform(df1[feature_cols])\n",
        "\n",
        "X_scaled = pd.DataFrame(X_scaled, columns=feature_cols, index=df1.index)\n"
      ],
      "metadata": {
        "id": "hNtm4sg-j5Wm"
      },
      "execution_count": 10,
      "outputs": []
    },
    {
      "cell_type": "code",
      "source": [
        "X_scaled.head()"
      ],
      "metadata": {
        "colab": {
          "base_uri": "https://localhost:8080/",
          "height": 226
        },
        "id": "rG6pEboVj5Tr",
        "outputId": "56a96fee-8451-42ca-ed5e-9c580c2640c7"
      },
      "execution_count": 11,
      "outputs": [
        {
          "output_type": "execute_result",
          "data": {
            "text/plain": [
              "        age  default   balance   housing      loan  day_of_week     month  \\\n",
              "0  1.606965 -0.13549  0.256419  0.893915 -0.436803    -1.298476 -0.475354   \n",
              "1  0.288529 -0.13549 -0.437895  0.893915 -0.436803    -1.298476 -0.475354   \n",
              "2 -0.747384 -0.13549 -0.446762  0.893915  2.289359    -1.298476 -0.475354   \n",
              "3  0.571051 -0.13549  0.047205  0.893915 -0.436803    -1.298476 -0.475354   \n",
              "4 -0.747384 -0.13549 -0.447091 -1.118674 -0.436803    -1.298476 -0.475354   \n",
              "\n",
              "   duration  campaign     pdays  previous  contact_bin  marital_married  \\\n",
              "0  0.011016 -0.569351 -0.411453  -0.25194     1.514306         0.813212   \n",
              "1 -0.416127 -0.569351 -0.411453  -0.25194     1.514306        -1.229691   \n",
              "2 -0.707361 -0.569351 -0.411453  -0.25194     1.514306         0.813212   \n",
              "3 -0.645231 -0.569351 -0.411453  -0.25194     1.514306         0.813212   \n",
              "4 -0.233620 -0.569351 -0.411453  -0.25194     1.514306        -1.229691   \n",
              "\n",
              "   marital_single  poutcome_nonexistent  poutcome_other  poutcome_success  \\\n",
              "0       -0.628090              0.472519       -0.205972         -0.185948   \n",
              "1        1.592128              0.472519       -0.205972         -0.185948   \n",
              "2       -0.628090              0.472519       -0.205972         -0.185948   \n",
              "3       -0.628090              0.472519       -0.205972         -0.185948   \n",
              "4        1.592128              0.472519       -0.205972         -0.185948   \n",
              "\n",
              "   job_freq  education_ord  \n",
              "0  0.846834       1.314507  \n",
              "1  0.263275      -0.218740  \n",
              "2 -1.652655      -0.218740  \n",
              "3  1.023062      -0.218740  \n",
              "4  1.023062      -0.218740  "
            ],
            "text/html": [
              "\n",
              "  <div id=\"df-ecc3a7a6-4367-4180-9278-64221eba98bd\" class=\"colab-df-container\">\n",
              "    <div>\n",
              "<style scoped>\n",
              "    .dataframe tbody tr th:only-of-type {\n",
              "        vertical-align: middle;\n",
              "    }\n",
              "\n",
              "    .dataframe tbody tr th {\n",
              "        vertical-align: top;\n",
              "    }\n",
              "\n",
              "    .dataframe thead th {\n",
              "        text-align: right;\n",
              "    }\n",
              "</style>\n",
              "<table border=\"1\" class=\"dataframe\">\n",
              "  <thead>\n",
              "    <tr style=\"text-align: right;\">\n",
              "      <th></th>\n",
              "      <th>age</th>\n",
              "      <th>default</th>\n",
              "      <th>balance</th>\n",
              "      <th>housing</th>\n",
              "      <th>loan</th>\n",
              "      <th>day_of_week</th>\n",
              "      <th>month</th>\n",
              "      <th>duration</th>\n",
              "      <th>campaign</th>\n",
              "      <th>pdays</th>\n",
              "      <th>previous</th>\n",
              "      <th>contact_bin</th>\n",
              "      <th>marital_married</th>\n",
              "      <th>marital_single</th>\n",
              "      <th>poutcome_nonexistent</th>\n",
              "      <th>poutcome_other</th>\n",
              "      <th>poutcome_success</th>\n",
              "      <th>job_freq</th>\n",
              "      <th>education_ord</th>\n",
              "    </tr>\n",
              "  </thead>\n",
              "  <tbody>\n",
              "    <tr>\n",
              "      <th>0</th>\n",
              "      <td>1.606965</td>\n",
              "      <td>-0.13549</td>\n",
              "      <td>0.256419</td>\n",
              "      <td>0.893915</td>\n",
              "      <td>-0.436803</td>\n",
              "      <td>-1.298476</td>\n",
              "      <td>-0.475354</td>\n",
              "      <td>0.011016</td>\n",
              "      <td>-0.569351</td>\n",
              "      <td>-0.411453</td>\n",
              "      <td>-0.25194</td>\n",
              "      <td>1.514306</td>\n",
              "      <td>0.813212</td>\n",
              "      <td>-0.628090</td>\n",
              "      <td>0.472519</td>\n",
              "      <td>-0.205972</td>\n",
              "      <td>-0.185948</td>\n",
              "      <td>0.846834</td>\n",
              "      <td>1.314507</td>\n",
              "    </tr>\n",
              "    <tr>\n",
              "      <th>1</th>\n",
              "      <td>0.288529</td>\n",
              "      <td>-0.13549</td>\n",
              "      <td>-0.437895</td>\n",
              "      <td>0.893915</td>\n",
              "      <td>-0.436803</td>\n",
              "      <td>-1.298476</td>\n",
              "      <td>-0.475354</td>\n",
              "      <td>-0.416127</td>\n",
              "      <td>-0.569351</td>\n",
              "      <td>-0.411453</td>\n",
              "      <td>-0.25194</td>\n",
              "      <td>1.514306</td>\n",
              "      <td>-1.229691</td>\n",
              "      <td>1.592128</td>\n",
              "      <td>0.472519</td>\n",
              "      <td>-0.205972</td>\n",
              "      <td>-0.185948</td>\n",
              "      <td>0.263275</td>\n",
              "      <td>-0.218740</td>\n",
              "    </tr>\n",
              "    <tr>\n",
              "      <th>2</th>\n",
              "      <td>-0.747384</td>\n",
              "      <td>-0.13549</td>\n",
              "      <td>-0.446762</td>\n",
              "      <td>0.893915</td>\n",
              "      <td>2.289359</td>\n",
              "      <td>-1.298476</td>\n",
              "      <td>-0.475354</td>\n",
              "      <td>-0.707361</td>\n",
              "      <td>-0.569351</td>\n",
              "      <td>-0.411453</td>\n",
              "      <td>-0.25194</td>\n",
              "      <td>1.514306</td>\n",
              "      <td>0.813212</td>\n",
              "      <td>-0.628090</td>\n",
              "      <td>0.472519</td>\n",
              "      <td>-0.205972</td>\n",
              "      <td>-0.185948</td>\n",
              "      <td>-1.652655</td>\n",
              "      <td>-0.218740</td>\n",
              "    </tr>\n",
              "    <tr>\n",
              "      <th>3</th>\n",
              "      <td>0.571051</td>\n",
              "      <td>-0.13549</td>\n",
              "      <td>0.047205</td>\n",
              "      <td>0.893915</td>\n",
              "      <td>-0.436803</td>\n",
              "      <td>-1.298476</td>\n",
              "      <td>-0.475354</td>\n",
              "      <td>-0.645231</td>\n",
              "      <td>-0.569351</td>\n",
              "      <td>-0.411453</td>\n",
              "      <td>-0.25194</td>\n",
              "      <td>1.514306</td>\n",
              "      <td>0.813212</td>\n",
              "      <td>-0.628090</td>\n",
              "      <td>0.472519</td>\n",
              "      <td>-0.205972</td>\n",
              "      <td>-0.185948</td>\n",
              "      <td>1.023062</td>\n",
              "      <td>-0.218740</td>\n",
              "    </tr>\n",
              "    <tr>\n",
              "      <th>4</th>\n",
              "      <td>-0.747384</td>\n",
              "      <td>-0.13549</td>\n",
              "      <td>-0.447091</td>\n",
              "      <td>-1.118674</td>\n",
              "      <td>-0.436803</td>\n",
              "      <td>-1.298476</td>\n",
              "      <td>-0.475354</td>\n",
              "      <td>-0.233620</td>\n",
              "      <td>-0.569351</td>\n",
              "      <td>-0.411453</td>\n",
              "      <td>-0.25194</td>\n",
              "      <td>1.514306</td>\n",
              "      <td>-1.229691</td>\n",
              "      <td>1.592128</td>\n",
              "      <td>0.472519</td>\n",
              "      <td>-0.205972</td>\n",
              "      <td>-0.185948</td>\n",
              "      <td>1.023062</td>\n",
              "      <td>-0.218740</td>\n",
              "    </tr>\n",
              "  </tbody>\n",
              "</table>\n",
              "</div>\n",
              "    <div class=\"colab-df-buttons\">\n",
              "\n",
              "  <div class=\"colab-df-container\">\n",
              "    <button class=\"colab-df-convert\" onclick=\"convertToInteractive('df-ecc3a7a6-4367-4180-9278-64221eba98bd')\"\n",
              "            title=\"Convert this dataframe to an interactive table.\"\n",
              "            style=\"display:none;\">\n",
              "\n",
              "  <svg xmlns=\"http://www.w3.org/2000/svg\" height=\"24px\" viewBox=\"0 -960 960 960\">\n",
              "    <path d=\"M120-120v-720h720v720H120Zm60-500h600v-160H180v160Zm220 220h160v-160H400v160Zm0 220h160v-160H400v160ZM180-400h160v-160H180v160Zm440 0h160v-160H620v160ZM180-180h160v-160H180v160Zm440 0h160v-160H620v160Z\"/>\n",
              "  </svg>\n",
              "    </button>\n",
              "\n",
              "  <style>\n",
              "    .colab-df-container {\n",
              "      display:flex;\n",
              "      gap: 12px;\n",
              "    }\n",
              "\n",
              "    .colab-df-convert {\n",
              "      background-color: #E8F0FE;\n",
              "      border: none;\n",
              "      border-radius: 50%;\n",
              "      cursor: pointer;\n",
              "      display: none;\n",
              "      fill: #1967D2;\n",
              "      height: 32px;\n",
              "      padding: 0 0 0 0;\n",
              "      width: 32px;\n",
              "    }\n",
              "\n",
              "    .colab-df-convert:hover {\n",
              "      background-color: #E2EBFA;\n",
              "      box-shadow: 0px 1px 2px rgba(60, 64, 67, 0.3), 0px 1px 3px 1px rgba(60, 64, 67, 0.15);\n",
              "      fill: #174EA6;\n",
              "    }\n",
              "\n",
              "    .colab-df-buttons div {\n",
              "      margin-bottom: 4px;\n",
              "    }\n",
              "\n",
              "    [theme=dark] .colab-df-convert {\n",
              "      background-color: #3B4455;\n",
              "      fill: #D2E3FC;\n",
              "    }\n",
              "\n",
              "    [theme=dark] .colab-df-convert:hover {\n",
              "      background-color: #434B5C;\n",
              "      box-shadow: 0px 1px 3px 1px rgba(0, 0, 0, 0.15);\n",
              "      filter: drop-shadow(0px 1px 2px rgba(0, 0, 0, 0.3));\n",
              "      fill: #FFFFFF;\n",
              "    }\n",
              "  </style>\n",
              "\n",
              "    <script>\n",
              "      const buttonEl =\n",
              "        document.querySelector('#df-ecc3a7a6-4367-4180-9278-64221eba98bd button.colab-df-convert');\n",
              "      buttonEl.style.display =\n",
              "        google.colab.kernel.accessAllowed ? 'block' : 'none';\n",
              "\n",
              "      async function convertToInteractive(key) {\n",
              "        const element = document.querySelector('#df-ecc3a7a6-4367-4180-9278-64221eba98bd');\n",
              "        const dataTable =\n",
              "          await google.colab.kernel.invokeFunction('convertToInteractive',\n",
              "                                                    [key], {});\n",
              "        if (!dataTable) return;\n",
              "\n",
              "        const docLinkHtml = 'Like what you see? Visit the ' +\n",
              "          '<a target=\"_blank\" href=https://colab.research.google.com/notebooks/data_table.ipynb>data table notebook</a>'\n",
              "          + ' to learn more about interactive tables.';\n",
              "        element.innerHTML = '';\n",
              "        dataTable['output_type'] = 'display_data';\n",
              "        await google.colab.output.renderOutput(dataTable, element);\n",
              "        const docLink = document.createElement('div');\n",
              "        docLink.innerHTML = docLinkHtml;\n",
              "        element.appendChild(docLink);\n",
              "      }\n",
              "    </script>\n",
              "  </div>\n",
              "\n",
              "\n",
              "    <div id=\"df-cac81a11-9ccd-4a61-b471-5efdc59121ae\">\n",
              "      <button class=\"colab-df-quickchart\" onclick=\"quickchart('df-cac81a11-9ccd-4a61-b471-5efdc59121ae')\"\n",
              "                title=\"Suggest charts\"\n",
              "                style=\"display:none;\">\n",
              "\n",
              "<svg xmlns=\"http://www.w3.org/2000/svg\" height=\"24px\"viewBox=\"0 0 24 24\"\n",
              "     width=\"24px\">\n",
              "    <g>\n",
              "        <path d=\"M19 3H5c-1.1 0-2 .9-2 2v14c0 1.1.9 2 2 2h14c1.1 0 2-.9 2-2V5c0-1.1-.9-2-2-2zM9 17H7v-7h2v7zm4 0h-2V7h2v10zm4 0h-2v-4h2v4z\"/>\n",
              "    </g>\n",
              "</svg>\n",
              "      </button>\n",
              "\n",
              "<style>\n",
              "  .colab-df-quickchart {\n",
              "      --bg-color: #E8F0FE;\n",
              "      --fill-color: #1967D2;\n",
              "      --hover-bg-color: #E2EBFA;\n",
              "      --hover-fill-color: #174EA6;\n",
              "      --disabled-fill-color: #AAA;\n",
              "      --disabled-bg-color: #DDD;\n",
              "  }\n",
              "\n",
              "  [theme=dark] .colab-df-quickchart {\n",
              "      --bg-color: #3B4455;\n",
              "      --fill-color: #D2E3FC;\n",
              "      --hover-bg-color: #434B5C;\n",
              "      --hover-fill-color: #FFFFFF;\n",
              "      --disabled-bg-color: #3B4455;\n",
              "      --disabled-fill-color: #666;\n",
              "  }\n",
              "\n",
              "  .colab-df-quickchart {\n",
              "    background-color: var(--bg-color);\n",
              "    border: none;\n",
              "    border-radius: 50%;\n",
              "    cursor: pointer;\n",
              "    display: none;\n",
              "    fill: var(--fill-color);\n",
              "    height: 32px;\n",
              "    padding: 0;\n",
              "    width: 32px;\n",
              "  }\n",
              "\n",
              "  .colab-df-quickchart:hover {\n",
              "    background-color: var(--hover-bg-color);\n",
              "    box-shadow: 0 1px 2px rgba(60, 64, 67, 0.3), 0 1px 3px 1px rgba(60, 64, 67, 0.15);\n",
              "    fill: var(--button-hover-fill-color);\n",
              "  }\n",
              "\n",
              "  .colab-df-quickchart-complete:disabled,\n",
              "  .colab-df-quickchart-complete:disabled:hover {\n",
              "    background-color: var(--disabled-bg-color);\n",
              "    fill: var(--disabled-fill-color);\n",
              "    box-shadow: none;\n",
              "  }\n",
              "\n",
              "  .colab-df-spinner {\n",
              "    border: 2px solid var(--fill-color);\n",
              "    border-color: transparent;\n",
              "    border-bottom-color: var(--fill-color);\n",
              "    animation:\n",
              "      spin 1s steps(1) infinite;\n",
              "  }\n",
              "\n",
              "  @keyframes spin {\n",
              "    0% {\n",
              "      border-color: transparent;\n",
              "      border-bottom-color: var(--fill-color);\n",
              "      border-left-color: var(--fill-color);\n",
              "    }\n",
              "    20% {\n",
              "      border-color: transparent;\n",
              "      border-left-color: var(--fill-color);\n",
              "      border-top-color: var(--fill-color);\n",
              "    }\n",
              "    30% {\n",
              "      border-color: transparent;\n",
              "      border-left-color: var(--fill-color);\n",
              "      border-top-color: var(--fill-color);\n",
              "      border-right-color: var(--fill-color);\n",
              "    }\n",
              "    40% {\n",
              "      border-color: transparent;\n",
              "      border-right-color: var(--fill-color);\n",
              "      border-top-color: var(--fill-color);\n",
              "    }\n",
              "    60% {\n",
              "      border-color: transparent;\n",
              "      border-right-color: var(--fill-color);\n",
              "    }\n",
              "    80% {\n",
              "      border-color: transparent;\n",
              "      border-right-color: var(--fill-color);\n",
              "      border-bottom-color: var(--fill-color);\n",
              "    }\n",
              "    90% {\n",
              "      border-color: transparent;\n",
              "      border-bottom-color: var(--fill-color);\n",
              "    }\n",
              "  }\n",
              "</style>\n",
              "\n",
              "      <script>\n",
              "        async function quickchart(key) {\n",
              "          const quickchartButtonEl =\n",
              "            document.querySelector('#' + key + ' button');\n",
              "          quickchartButtonEl.disabled = true;  // To prevent multiple clicks.\n",
              "          quickchartButtonEl.classList.add('colab-df-spinner');\n",
              "          try {\n",
              "            const charts = await google.colab.kernel.invokeFunction(\n",
              "                'suggestCharts', [key], {});\n",
              "          } catch (error) {\n",
              "            console.error('Error during call to suggestCharts:', error);\n",
              "          }\n",
              "          quickchartButtonEl.classList.remove('colab-df-spinner');\n",
              "          quickchartButtonEl.classList.add('colab-df-quickchart-complete');\n",
              "        }\n",
              "        (() => {\n",
              "          let quickchartButtonEl =\n",
              "            document.querySelector('#df-cac81a11-9ccd-4a61-b471-5efdc59121ae button');\n",
              "          quickchartButtonEl.style.display =\n",
              "            google.colab.kernel.accessAllowed ? 'block' : 'none';\n",
              "        })();\n",
              "      </script>\n",
              "    </div>\n",
              "\n",
              "    </div>\n",
              "  </div>\n"
            ],
            "application/vnd.google.colaboratory.intrinsic+json": {
              "type": "dataframe",
              "variable_name": "X_scaled",
              "summary": "{\n  \"name\": \"X_scaled\",\n  \"rows\": 45211,\n  \"fields\": [\n    {\n      \"column\": \"age\",\n      \"properties\": {\n        \"dtype\": \"number\",\n        \"std\": 1.0000110594389715,\n        \"min\": -2.159994148794221,\n        \"max\": 5.09140213258684,\n        \"num_unique_values\": 77,\n        \"samples\": [\n          -0.5590365282295715,\n          -0.653210505909845,\n          1.1360950700153518\n        ],\n        \"semantic_type\": \"\",\n        \"description\": \"\"\n      }\n    },\n    {\n      \"column\": \"default\",\n      \"properties\": {\n        \"dtype\": \"number\",\n        \"std\": 1.0000110594396594,\n        \"min\": -0.13548988776125423,\n        \"max\": 7.3806246098756345,\n        \"num_unique_values\": 2,\n        \"samples\": [\n          7.3806246098756345,\n          -0.13548988776125423\n        ],\n        \"semantic_type\": \"\",\n        \"description\": \"\"\n      }\n    },\n    {\n      \"column\": \"balance\",\n      \"properties\": {\n        \"dtype\": \"number\",\n        \"std\": 1.0000110594389817,\n        \"min\": -3.0811485466035458,\n        \"max\": 33.09477575528038,\n        \"num_unique_values\": 7168,\n        \"samples\": [\n          0.6285373701776257,\n          -0.43329658900374024\n        ],\n        \"semantic_type\": \"\",\n        \"description\": \"\"\n      }\n    },\n    {\n      \"column\": \"housing\",\n      \"properties\": {\n        \"dtype\": \"number\",\n        \"std\": 1.0000110594392297,\n        \"min\": -1.1186740819418701,\n        \"max\": 0.8939154094498484,\n        \"num_unique_values\": 2,\n        \"samples\": [\n          -1.1186740819418701,\n          0.8939154094498484\n        ],\n        \"semantic_type\": \"\",\n        \"description\": \"\"\n      }\n    },\n    {\n      \"column\": \"loan\",\n      \"properties\": {\n        \"dtype\": \"number\",\n        \"std\": 1.0000110594394136,\n        \"min\": -0.436803469897576,\n        \"max\": 2.2893591029267353,\n        \"num_unique_values\": 2,\n        \"samples\": [\n          2.2893591029267353,\n          -0.436803469897576\n        ],\n        \"semantic_type\": \"\",\n        \"description\": \"\"\n      }\n    },\n    {\n      \"column\": \"day_of_week\",\n      \"properties\": {\n        \"dtype\": \"number\",\n        \"std\": 1.0000110594390266,\n        \"min\": -1.7791078364526218,\n        \"max\": 1.8256284501384432,\n        \"num_unique_values\": 31,\n        \"samples\": [\n          -1.7791078364526218,\n          1.3449969452596344\n        ],\n        \"semantic_type\": \"\",\n        \"description\": \"\"\n      }\n    },\n    {\n      \"column\": \"month\",\n      \"properties\": {\n        \"dtype\": \"number\",\n        \"std\": 1.0000110594389608,\n        \"min\": -2.1364781405122844,\n        \"max\": 2.43161423171287,\n        \"num_unique_values\": 12,\n        \"samples\": [\n          -0.8906347662690605,\n          -1.3059158910168018\n        ],\n        \"semantic_type\": \"\",\n        \"description\": \"\"\n      }\n    },\n    {\n      \"column\": \"duration\",\n      \"properties\": {\n        \"dtype\": \"number\",\n        \"std\": 1.0000110594389606,\n        \"min\": -1.0024778786007835,\n        \"max\": 18.094699808975527,\n        \"num_unique_values\": 1573,\n        \"samples\": [\n          2.2399262224822207,\n          3.4048618276617435\n        ],\n        \"semantic_type\": \"\",\n        \"description\": \"\"\n      }\n    },\n    {\n      \"column\": \"campaign\",\n      \"properties\": {\n        \"dtype\": \"number\",\n        \"std\": 1.0000110594389409,\n        \"min\": -0.5693506376457914,\n        \"max\": 19.44364734433979,\n        \"num_unique_values\": 48,\n        \"samples\": [\n          12.34226096363523,\n          7.823196903186872\n        ],\n        \"semantic_type\": \"\",\n        \"description\": \"\"\n      }\n    },\n    {\n      \"column\": \"pdays\",\n      \"properties\": {\n        \"dtype\": \"number\",\n        \"std\": 1.0000110594390705,\n        \"min\": -0.4114531064930479,\n        \"max\": 8.297430992711057,\n        \"num_unique_values\": 559,\n        \"samples\": [\n          2.085359995342991,\n          5.101510222360926\n        ],\n        \"semantic_type\": \"\",\n        \"description\": \"\"\n      }\n    },\n    {\n      \"column\": \"previous\",\n      \"properties\": {\n        \"dtype\": \"number\",\n        \"std\": 1.000011059438863,\n        \"min\": -0.25194037067217256,\n        \"max\": 119.13598229870267,\n        \"num_unique_values\": 41,\n        \"samples\": [\n          7.128403939798272,\n          3.6553007348710045\n        ],\n        \"semantic_type\": \"\",\n        \"description\": \"\"\n      }\n    },\n    {\n      \"column\": \"contact_bin\",\n      \"properties\": {\n        \"dtype\": \"number\",\n        \"std\": 1.0000110594387075,\n        \"min\": -0.7130116553952504,\n        \"max\": 1.5143061054058737,\n        \"num_unique_values\": 3,\n        \"samples\": [\n          1.5143061054058737,\n          -0.7130116553952504\n        ],\n        \"semantic_type\": \"\",\n        \"description\": \"\"\n      }\n    },\n    {\n      \"column\": \"marital_married\",\n      \"properties\": {\n        \"dtype\": \"number\",\n        \"std\": 1.0000110594392575,\n        \"min\": -1.229691389078693,\n        \"max\": 0.8132121676067186,\n        \"num_unique_values\": 2,\n        \"samples\": [\n          -1.229691389078693,\n          0.8132121676067186\n        ],\n        \"semantic_type\": \"\",\n        \"description\": \"\"\n      }\n    },\n    {\n      \"column\": \"marital_single\",\n      \"properties\": {\n        \"dtype\": \"number\",\n        \"std\": 1.0000110594389058,\n        \"min\": -0.6280902750915669,\n        \"max\": 1.5921278192919224,\n        \"num_unique_values\": 2,\n        \"samples\": [\n          1.5921278192919224,\n          -0.6280902750915669\n        ],\n        \"semantic_type\": \"\",\n        \"description\": \"\"\n      }\n    },\n    {\n      \"column\": \"poutcome_nonexistent\",\n      \"properties\": {\n        \"dtype\": \"number\",\n        \"std\": 1.00001105943886,\n        \"min\": -2.116315907390475,\n        \"max\": 0.4725192474846775,\n        \"num_unique_values\": 2,\n        \"samples\": [\n          -2.116315907390475,\n          0.4725192474846775\n        ],\n        \"semantic_type\": \"\",\n        \"description\": \"\"\n      }\n    },\n    {\n      \"column\": \"poutcome_other\",\n      \"properties\": {\n        \"dtype\": \"number\",\n        \"std\": 1.0000110594387537,\n        \"min\": -0.20597247787087125,\n        \"max\": 4.855017574857367,\n        \"num_unique_values\": 2,\n        \"samples\": [\n          4.855017574857367,\n          -0.20597247787087125\n        ],\n        \"semantic_type\": \"\",\n        \"description\": \"\"\n      }\n    },\n    {\n      \"column\": \"poutcome_success\",\n      \"properties\": {\n        \"dtype\": \"number\",\n        \"std\": 1.0000110594389857,\n        \"min\": -0.1859480009005249,\n        \"max\": 5.377847544244168,\n        \"num_unique_values\": 2,\n        \"samples\": [\n          5.377847544244168,\n          -0.1859480009005249\n        ],\n        \"semantic_type\": \"\",\n        \"description\": \"\"\n      }\n    },\n    {\n      \"column\": \"job_freq\",\n      \"properties\": {\n        \"dtype\": \"number\",\n        \"std\": 1.0000110594388654,\n        \"min\": -1.8248062233079785,\n        \"max\": 1.0230621535026692,\n        \"num_unique_values\": 11,\n        \"samples\": [\n          -0.4974524643298379,\n          0.846834227080341\n        ],\n        \"semantic_type\": \"\",\n        \"description\": \"\"\n      }\n    },\n    {\n      \"column\": \"education_ord\",\n      \"properties\": {\n        \"dtype\": \"number\",\n        \"std\": 1.0000110594390852,\n        \"min\": -1.7519859525047337,\n        \"max\": 1.314506639535355,\n        \"num_unique_values\": 3,\n        \"samples\": [\n          1.314506639535355,\n          -0.21873965648468938\n        ],\n        \"semantic_type\": \"\",\n        \"description\": \"\"\n      }\n    }\n  ]\n}"
            }
          },
          "metadata": {},
          "execution_count": 11
        }
      ]
    },
    {
      "cell_type": "markdown",
      "source": [
        "**Dimentionality reduction**\n",
        "- **Scaled all features** with `StandardScaler` so every variable (numerics, binaries, dummies, cyclic and frequency/ordinal encodings) has mean 0 and variance 1.\n",
        "- **Ran full PCA** to get every component’s explained‐variance ratio, then plotted the cumulative sum against a 90 % threshold to see how many axes capture most information.\n",
        "- **Selected** the minimal `n_components` meeting ≥ 90 % variance, re-fitted `PCA(n_components=…)`, and produced a low-dimensional `X_pca` matrix for faster, more stable K-means."
      ],
      "metadata": {
        "id": "m-YKaPelj_RF"
      }
    },
    {
      "cell_type": "code",
      "source": [
        "\n",
        "\n",
        "# 1) Fit PCA\n",
        "pca_full = PCA(random_state=42)\n",
        "pca_full.fit(X_scaled)"
      ],
      "metadata": {
        "colab": {
          "base_uri": "https://localhost:8080/",
          "height": 80
        },
        "id": "TfTSpUd2j5NO",
        "outputId": "f0ffbe1d-f294-4c29-9177-d7b3aadb06d6"
      },
      "execution_count": 12,
      "outputs": [
        {
          "output_type": "execute_result",
          "data": {
            "text/plain": [
              "PCA(random_state=42)"
            ],
            "text/html": [
              "<style>#sk-container-id-1 {\n",
              "  /* Definition of color scheme common for light and dark mode */\n",
              "  --sklearn-color-text: #000;\n",
              "  --sklearn-color-text-muted: #666;\n",
              "  --sklearn-color-line: gray;\n",
              "  /* Definition of color scheme for unfitted estimators */\n",
              "  --sklearn-color-unfitted-level-0: #fff5e6;\n",
              "  --sklearn-color-unfitted-level-1: #f6e4d2;\n",
              "  --sklearn-color-unfitted-level-2: #ffe0b3;\n",
              "  --sklearn-color-unfitted-level-3: chocolate;\n",
              "  /* Definition of color scheme for fitted estimators */\n",
              "  --sklearn-color-fitted-level-0: #f0f8ff;\n",
              "  --sklearn-color-fitted-level-1: #d4ebff;\n",
              "  --sklearn-color-fitted-level-2: #b3dbfd;\n",
              "  --sklearn-color-fitted-level-3: cornflowerblue;\n",
              "\n",
              "  /* Specific color for light theme */\n",
              "  --sklearn-color-text-on-default-background: var(--sg-text-color, var(--theme-code-foreground, var(--jp-content-font-color1, black)));\n",
              "  --sklearn-color-background: var(--sg-background-color, var(--theme-background, var(--jp-layout-color0, white)));\n",
              "  --sklearn-color-border-box: var(--sg-text-color, var(--theme-code-foreground, var(--jp-content-font-color1, black)));\n",
              "  --sklearn-color-icon: #696969;\n",
              "\n",
              "  @media (prefers-color-scheme: dark) {\n",
              "    /* Redefinition of color scheme for dark theme */\n",
              "    --sklearn-color-text-on-default-background: var(--sg-text-color, var(--theme-code-foreground, var(--jp-content-font-color1, white)));\n",
              "    --sklearn-color-background: var(--sg-background-color, var(--theme-background, var(--jp-layout-color0, #111)));\n",
              "    --sklearn-color-border-box: var(--sg-text-color, var(--theme-code-foreground, var(--jp-content-font-color1, white)));\n",
              "    --sklearn-color-icon: #878787;\n",
              "  }\n",
              "}\n",
              "\n",
              "#sk-container-id-1 {\n",
              "  color: var(--sklearn-color-text);\n",
              "}\n",
              "\n",
              "#sk-container-id-1 pre {\n",
              "  padding: 0;\n",
              "}\n",
              "\n",
              "#sk-container-id-1 input.sk-hidden--visually {\n",
              "  border: 0;\n",
              "  clip: rect(1px 1px 1px 1px);\n",
              "  clip: rect(1px, 1px, 1px, 1px);\n",
              "  height: 1px;\n",
              "  margin: -1px;\n",
              "  overflow: hidden;\n",
              "  padding: 0;\n",
              "  position: absolute;\n",
              "  width: 1px;\n",
              "}\n",
              "\n",
              "#sk-container-id-1 div.sk-dashed-wrapped {\n",
              "  border: 1px dashed var(--sklearn-color-line);\n",
              "  margin: 0 0.4em 0.5em 0.4em;\n",
              "  box-sizing: border-box;\n",
              "  padding-bottom: 0.4em;\n",
              "  background-color: var(--sklearn-color-background);\n",
              "}\n",
              "\n",
              "#sk-container-id-1 div.sk-container {\n",
              "  /* jupyter's `normalize.less` sets `[hidden] { display: none; }`\n",
              "     but bootstrap.min.css set `[hidden] { display: none !important; }`\n",
              "     so we also need the `!important` here to be able to override the\n",
              "     default hidden behavior on the sphinx rendered scikit-learn.org.\n",
              "     See: https://github.com/scikit-learn/scikit-learn/issues/21755 */\n",
              "  display: inline-block !important;\n",
              "  position: relative;\n",
              "}\n",
              "\n",
              "#sk-container-id-1 div.sk-text-repr-fallback {\n",
              "  display: none;\n",
              "}\n",
              "\n",
              "div.sk-parallel-item,\n",
              "div.sk-serial,\n",
              "div.sk-item {\n",
              "  /* draw centered vertical line to link estimators */\n",
              "  background-image: linear-gradient(var(--sklearn-color-text-on-default-background), var(--sklearn-color-text-on-default-background));\n",
              "  background-size: 2px 100%;\n",
              "  background-repeat: no-repeat;\n",
              "  background-position: center center;\n",
              "}\n",
              "\n",
              "/* Parallel-specific style estimator block */\n",
              "\n",
              "#sk-container-id-1 div.sk-parallel-item::after {\n",
              "  content: \"\";\n",
              "  width: 100%;\n",
              "  border-bottom: 2px solid var(--sklearn-color-text-on-default-background);\n",
              "  flex-grow: 1;\n",
              "}\n",
              "\n",
              "#sk-container-id-1 div.sk-parallel {\n",
              "  display: flex;\n",
              "  align-items: stretch;\n",
              "  justify-content: center;\n",
              "  background-color: var(--sklearn-color-background);\n",
              "  position: relative;\n",
              "}\n",
              "\n",
              "#sk-container-id-1 div.sk-parallel-item {\n",
              "  display: flex;\n",
              "  flex-direction: column;\n",
              "}\n",
              "\n",
              "#sk-container-id-1 div.sk-parallel-item:first-child::after {\n",
              "  align-self: flex-end;\n",
              "  width: 50%;\n",
              "}\n",
              "\n",
              "#sk-container-id-1 div.sk-parallel-item:last-child::after {\n",
              "  align-self: flex-start;\n",
              "  width: 50%;\n",
              "}\n",
              "\n",
              "#sk-container-id-1 div.sk-parallel-item:only-child::after {\n",
              "  width: 0;\n",
              "}\n",
              "\n",
              "/* Serial-specific style estimator block */\n",
              "\n",
              "#sk-container-id-1 div.sk-serial {\n",
              "  display: flex;\n",
              "  flex-direction: column;\n",
              "  align-items: center;\n",
              "  background-color: var(--sklearn-color-background);\n",
              "  padding-right: 1em;\n",
              "  padding-left: 1em;\n",
              "}\n",
              "\n",
              "\n",
              "/* Toggleable style: style used for estimator/Pipeline/ColumnTransformer box that is\n",
              "clickable and can be expanded/collapsed.\n",
              "- Pipeline and ColumnTransformer use this feature and define the default style\n",
              "- Estimators will overwrite some part of the style using the `sk-estimator` class\n",
              "*/\n",
              "\n",
              "/* Pipeline and ColumnTransformer style (default) */\n",
              "\n",
              "#sk-container-id-1 div.sk-toggleable {\n",
              "  /* Default theme specific background. It is overwritten whether we have a\n",
              "  specific estimator or a Pipeline/ColumnTransformer */\n",
              "  background-color: var(--sklearn-color-background);\n",
              "}\n",
              "\n",
              "/* Toggleable label */\n",
              "#sk-container-id-1 label.sk-toggleable__label {\n",
              "  cursor: pointer;\n",
              "  display: flex;\n",
              "  width: 100%;\n",
              "  margin-bottom: 0;\n",
              "  padding: 0.5em;\n",
              "  box-sizing: border-box;\n",
              "  text-align: center;\n",
              "  align-items: start;\n",
              "  justify-content: space-between;\n",
              "  gap: 0.5em;\n",
              "}\n",
              "\n",
              "#sk-container-id-1 label.sk-toggleable__label .caption {\n",
              "  font-size: 0.6rem;\n",
              "  font-weight: lighter;\n",
              "  color: var(--sklearn-color-text-muted);\n",
              "}\n",
              "\n",
              "#sk-container-id-1 label.sk-toggleable__label-arrow:before {\n",
              "  /* Arrow on the left of the label */\n",
              "  content: \"▸\";\n",
              "  float: left;\n",
              "  margin-right: 0.25em;\n",
              "  color: var(--sklearn-color-icon);\n",
              "}\n",
              "\n",
              "#sk-container-id-1 label.sk-toggleable__label-arrow:hover:before {\n",
              "  color: var(--sklearn-color-text);\n",
              "}\n",
              "\n",
              "/* Toggleable content - dropdown */\n",
              "\n",
              "#sk-container-id-1 div.sk-toggleable__content {\n",
              "  max-height: 0;\n",
              "  max-width: 0;\n",
              "  overflow: hidden;\n",
              "  text-align: left;\n",
              "  /* unfitted */\n",
              "  background-color: var(--sklearn-color-unfitted-level-0);\n",
              "}\n",
              "\n",
              "#sk-container-id-1 div.sk-toggleable__content.fitted {\n",
              "  /* fitted */\n",
              "  background-color: var(--sklearn-color-fitted-level-0);\n",
              "}\n",
              "\n",
              "#sk-container-id-1 div.sk-toggleable__content pre {\n",
              "  margin: 0.2em;\n",
              "  border-radius: 0.25em;\n",
              "  color: var(--sklearn-color-text);\n",
              "  /* unfitted */\n",
              "  background-color: var(--sklearn-color-unfitted-level-0);\n",
              "}\n",
              "\n",
              "#sk-container-id-1 div.sk-toggleable__content.fitted pre {\n",
              "  /* unfitted */\n",
              "  background-color: var(--sklearn-color-fitted-level-0);\n",
              "}\n",
              "\n",
              "#sk-container-id-1 input.sk-toggleable__control:checked~div.sk-toggleable__content {\n",
              "  /* Expand drop-down */\n",
              "  max-height: 200px;\n",
              "  max-width: 100%;\n",
              "  overflow: auto;\n",
              "}\n",
              "\n",
              "#sk-container-id-1 input.sk-toggleable__control:checked~label.sk-toggleable__label-arrow:before {\n",
              "  content: \"▾\";\n",
              "}\n",
              "\n",
              "/* Pipeline/ColumnTransformer-specific style */\n",
              "\n",
              "#sk-container-id-1 div.sk-label input.sk-toggleable__control:checked~label.sk-toggleable__label {\n",
              "  color: var(--sklearn-color-text);\n",
              "  background-color: var(--sklearn-color-unfitted-level-2);\n",
              "}\n",
              "\n",
              "#sk-container-id-1 div.sk-label.fitted input.sk-toggleable__control:checked~label.sk-toggleable__label {\n",
              "  background-color: var(--sklearn-color-fitted-level-2);\n",
              "}\n",
              "\n",
              "/* Estimator-specific style */\n",
              "\n",
              "/* Colorize estimator box */\n",
              "#sk-container-id-1 div.sk-estimator input.sk-toggleable__control:checked~label.sk-toggleable__label {\n",
              "  /* unfitted */\n",
              "  background-color: var(--sklearn-color-unfitted-level-2);\n",
              "}\n",
              "\n",
              "#sk-container-id-1 div.sk-estimator.fitted input.sk-toggleable__control:checked~label.sk-toggleable__label {\n",
              "  /* fitted */\n",
              "  background-color: var(--sklearn-color-fitted-level-2);\n",
              "}\n",
              "\n",
              "#sk-container-id-1 div.sk-label label.sk-toggleable__label,\n",
              "#sk-container-id-1 div.sk-label label {\n",
              "  /* The background is the default theme color */\n",
              "  color: var(--sklearn-color-text-on-default-background);\n",
              "}\n",
              "\n",
              "/* On hover, darken the color of the background */\n",
              "#sk-container-id-1 div.sk-label:hover label.sk-toggleable__label {\n",
              "  color: var(--sklearn-color-text);\n",
              "  background-color: var(--sklearn-color-unfitted-level-2);\n",
              "}\n",
              "\n",
              "/* Label box, darken color on hover, fitted */\n",
              "#sk-container-id-1 div.sk-label.fitted:hover label.sk-toggleable__label.fitted {\n",
              "  color: var(--sklearn-color-text);\n",
              "  background-color: var(--sklearn-color-fitted-level-2);\n",
              "}\n",
              "\n",
              "/* Estimator label */\n",
              "\n",
              "#sk-container-id-1 div.sk-label label {\n",
              "  font-family: monospace;\n",
              "  font-weight: bold;\n",
              "  display: inline-block;\n",
              "  line-height: 1.2em;\n",
              "}\n",
              "\n",
              "#sk-container-id-1 div.sk-label-container {\n",
              "  text-align: center;\n",
              "}\n",
              "\n",
              "/* Estimator-specific */\n",
              "#sk-container-id-1 div.sk-estimator {\n",
              "  font-family: monospace;\n",
              "  border: 1px dotted var(--sklearn-color-border-box);\n",
              "  border-radius: 0.25em;\n",
              "  box-sizing: border-box;\n",
              "  margin-bottom: 0.5em;\n",
              "  /* unfitted */\n",
              "  background-color: var(--sklearn-color-unfitted-level-0);\n",
              "}\n",
              "\n",
              "#sk-container-id-1 div.sk-estimator.fitted {\n",
              "  /* fitted */\n",
              "  background-color: var(--sklearn-color-fitted-level-0);\n",
              "}\n",
              "\n",
              "/* on hover */\n",
              "#sk-container-id-1 div.sk-estimator:hover {\n",
              "  /* unfitted */\n",
              "  background-color: var(--sklearn-color-unfitted-level-2);\n",
              "}\n",
              "\n",
              "#sk-container-id-1 div.sk-estimator.fitted:hover {\n",
              "  /* fitted */\n",
              "  background-color: var(--sklearn-color-fitted-level-2);\n",
              "}\n",
              "\n",
              "/* Specification for estimator info (e.g. \"i\" and \"?\") */\n",
              "\n",
              "/* Common style for \"i\" and \"?\" */\n",
              "\n",
              ".sk-estimator-doc-link,\n",
              "a:link.sk-estimator-doc-link,\n",
              "a:visited.sk-estimator-doc-link {\n",
              "  float: right;\n",
              "  font-size: smaller;\n",
              "  line-height: 1em;\n",
              "  font-family: monospace;\n",
              "  background-color: var(--sklearn-color-background);\n",
              "  border-radius: 1em;\n",
              "  height: 1em;\n",
              "  width: 1em;\n",
              "  text-decoration: none !important;\n",
              "  margin-left: 0.5em;\n",
              "  text-align: center;\n",
              "  /* unfitted */\n",
              "  border: var(--sklearn-color-unfitted-level-1) 1pt solid;\n",
              "  color: var(--sklearn-color-unfitted-level-1);\n",
              "}\n",
              "\n",
              ".sk-estimator-doc-link.fitted,\n",
              "a:link.sk-estimator-doc-link.fitted,\n",
              "a:visited.sk-estimator-doc-link.fitted {\n",
              "  /* fitted */\n",
              "  border: var(--sklearn-color-fitted-level-1) 1pt solid;\n",
              "  color: var(--sklearn-color-fitted-level-1);\n",
              "}\n",
              "\n",
              "/* On hover */\n",
              "div.sk-estimator:hover .sk-estimator-doc-link:hover,\n",
              ".sk-estimator-doc-link:hover,\n",
              "div.sk-label-container:hover .sk-estimator-doc-link:hover,\n",
              ".sk-estimator-doc-link:hover {\n",
              "  /* unfitted */\n",
              "  background-color: var(--sklearn-color-unfitted-level-3);\n",
              "  color: var(--sklearn-color-background);\n",
              "  text-decoration: none;\n",
              "}\n",
              "\n",
              "div.sk-estimator.fitted:hover .sk-estimator-doc-link.fitted:hover,\n",
              ".sk-estimator-doc-link.fitted:hover,\n",
              "div.sk-label-container:hover .sk-estimator-doc-link.fitted:hover,\n",
              ".sk-estimator-doc-link.fitted:hover {\n",
              "  /* fitted */\n",
              "  background-color: var(--sklearn-color-fitted-level-3);\n",
              "  color: var(--sklearn-color-background);\n",
              "  text-decoration: none;\n",
              "}\n",
              "\n",
              "/* Span, style for the box shown on hovering the info icon */\n",
              ".sk-estimator-doc-link span {\n",
              "  display: none;\n",
              "  z-index: 9999;\n",
              "  position: relative;\n",
              "  font-weight: normal;\n",
              "  right: .2ex;\n",
              "  padding: .5ex;\n",
              "  margin: .5ex;\n",
              "  width: min-content;\n",
              "  min-width: 20ex;\n",
              "  max-width: 50ex;\n",
              "  color: var(--sklearn-color-text);\n",
              "  box-shadow: 2pt 2pt 4pt #999;\n",
              "  /* unfitted */\n",
              "  background: var(--sklearn-color-unfitted-level-0);\n",
              "  border: .5pt solid var(--sklearn-color-unfitted-level-3);\n",
              "}\n",
              "\n",
              ".sk-estimator-doc-link.fitted span {\n",
              "  /* fitted */\n",
              "  background: var(--sklearn-color-fitted-level-0);\n",
              "  border: var(--sklearn-color-fitted-level-3);\n",
              "}\n",
              "\n",
              ".sk-estimator-doc-link:hover span {\n",
              "  display: block;\n",
              "}\n",
              "\n",
              "/* \"?\"-specific style due to the `<a>` HTML tag */\n",
              "\n",
              "#sk-container-id-1 a.estimator_doc_link {\n",
              "  float: right;\n",
              "  font-size: 1rem;\n",
              "  line-height: 1em;\n",
              "  font-family: monospace;\n",
              "  background-color: var(--sklearn-color-background);\n",
              "  border-radius: 1rem;\n",
              "  height: 1rem;\n",
              "  width: 1rem;\n",
              "  text-decoration: none;\n",
              "  /* unfitted */\n",
              "  color: var(--sklearn-color-unfitted-level-1);\n",
              "  border: var(--sklearn-color-unfitted-level-1) 1pt solid;\n",
              "}\n",
              "\n",
              "#sk-container-id-1 a.estimator_doc_link.fitted {\n",
              "  /* fitted */\n",
              "  border: var(--sklearn-color-fitted-level-1) 1pt solid;\n",
              "  color: var(--sklearn-color-fitted-level-1);\n",
              "}\n",
              "\n",
              "/* On hover */\n",
              "#sk-container-id-1 a.estimator_doc_link:hover {\n",
              "  /* unfitted */\n",
              "  background-color: var(--sklearn-color-unfitted-level-3);\n",
              "  color: var(--sklearn-color-background);\n",
              "  text-decoration: none;\n",
              "}\n",
              "\n",
              "#sk-container-id-1 a.estimator_doc_link.fitted:hover {\n",
              "  /* fitted */\n",
              "  background-color: var(--sklearn-color-fitted-level-3);\n",
              "}\n",
              "</style><div id=\"sk-container-id-1\" class=\"sk-top-container\"><div class=\"sk-text-repr-fallback\"><pre>PCA(random_state=42)</pre><b>In a Jupyter environment, please rerun this cell to show the HTML representation or trust the notebook. <br />On GitHub, the HTML representation is unable to render, please try loading this page with nbviewer.org.</b></div><div class=\"sk-container\" hidden><div class=\"sk-item\"><div class=\"sk-estimator fitted sk-toggleable\"><input class=\"sk-toggleable__control sk-hidden--visually\" id=\"sk-estimator-id-1\" type=\"checkbox\" checked><label for=\"sk-estimator-id-1\" class=\"sk-toggleable__label fitted sk-toggleable__label-arrow\"><div><div>PCA</div></div><div><a class=\"sk-estimator-doc-link fitted\" rel=\"noreferrer\" target=\"_blank\" href=\"https://scikit-learn.org/1.6/modules/generated/sklearn.decomposition.PCA.html\">?<span>Documentation for PCA</span></a><span class=\"sk-estimator-doc-link fitted\">i<span>Fitted</span></span></div></label><div class=\"sk-toggleable__content fitted\"><pre>PCA(random_state=42)</pre></div> </div></div></div></div>"
            ]
          },
          "metadata": {},
          "execution_count": 12
        }
      ]
    },
    {
      "cell_type": "code",
      "source": [],
      "metadata": {
        "colab": {
          "base_uri": "https://localhost:8080/",
          "height": 407
        },
        "id": "WXMIhsxhj5I3",
        "outputId": "0de6e799-f727-456a-c894-4d908a070726"
      },
      "execution_count": 13,
      "outputs": [
        {
          "output_type": "display_data",
          "data": {
            "text/plain": [
              "<Figure size 600x400 with 1 Axes>"
            ],
            "image/png": "[encoded data removed]"
          },
          "metadata": {}
        }
      ]
    },
    {
      "cell_type": "code",
      "source": [
        "# 3) Auto-select number of components for ≥90% variance\n",
        "n_components = np.searchsorted(cum_var, 0.90) + 1\n",
        "print(f\"Selecting {n_components} components to cover ≥90% variance\")"
      ],
      "metadata": {
        "colab": {
          "base_uri": "https://localhost:8080/"
        },
        "id": "f_U0kcrTj5Ep",
        "outputId": "b35b9ca9-8c28-4038-86c0-8874a69e2ff6"
      },
      "execution_count": 14,
      "outputs": [
        {
          "output_type": "stream",
          "name": "stdout",
          "text": [
            "Selecting 15 components to cover ≥90% variance\n"
          ]
        }
      ]
    },
    {
      "cell_type": "code",
      "source": [
        "# 4) Re-fit PCA with that many components\n",
        "pca = PCA(n_components=n_components, random_state=42)\n",
        "X_pca = pca.fit_transform(X_scaled)  # shape = (n_samples, n_components)"
      ],
      "metadata": {
        "id": "UpWjgYcSj5Ah"
      },
      "execution_count": 15,
      "outputs": []
    },
    {
      "cell_type": "markdown",
      "source": [
        "# 6A. K-Means Clustering"
      ],
      "metadata": {
        "id": "rl0zBu1IgYaQ"
      }
    },
    {
      "cell_type": "code",
      "source": [
        "from sklearn.cluster import KMeans\n",
        "\n",
        "inertias = []\n",
        "K_range = range(2, 11)\n",
        "for k in K_range:\n",
        "    km = KMeans(n_clusters=k, random_state=42, n_init=10)\n",
        "    km.fit(X_pca)\n",
        "    inertias.append(km.inertia_)"
      ],
      "metadata": {
        "id": "GQULBnbJmQh7"
      },
      "execution_count": 18,
      "outputs": []
    },
    {
      "cell_type": "code",
      "source": [
        "plt.figure(figsize=(6,4))\n",
        "plt.plot(K_range, inertias, marker='o')\n",
        "plt.xlabel('Number of clusters K')\n",
        "plt.ylabel('Inertia (WCSS)')\n",
        "plt.title('Elbow Method')\n",
        "plt.show()"
      ],
      "metadata": {
        "colab": {
          "base_uri": "https://localhost:8080/",
          "height": 410
        },
        "id": "cSXrEvOIgW4s",
        "outputId": "91d877f8-54ae-4c22-b4cf-76b7f9ac1f2b"
      },
      "execution_count": 16,
      "outputs": [
        {
          "output_type": "display_data",
          "data": {
            "text/plain": [
              "<Figure size 600x400 with 1 Axes>"
            ],
            "image/png": "[encoded data removed]"
          },
          "metadata": {}
        }
      ]
    },
    {
      "cell_type": "code",
      "execution_count": 19,
      "metadata": {
        "id": "c0LH5T8TFe_3"
      },
      "outputs": [],
      "source": [
        "from sklearn.metrics import silhouette_score\n",
        "\n",
        "sil_scores = []\n",
        "for k in K_range:\n",
        "    km = KMeans(n_clusters=k, random_state=42, n_init=10)\n",
        "    labels = km.fit_predict(X_pca)\n",
        "    sil_scores.append(silhouette_score(X_pca, labels))\n"
      ]
    },
    {
      "cell_type": "code",
      "source": [
        "plt.figure(figsize=(6,4))\n",
        "plt.plot(K_range, sil_scores, marker='o')\n",
        "plt.xlabel('Number of clusters K')\n",
        "plt.ylabel('Average silhouette score')\n",
        "plt.title('Silhouette Analysis')\n",
        "plt.show()"
      ],
      "metadata": {
        "colab": {
          "base_uri": "https://localhost:8080/",
          "height": 410
        },
        "id": "UjZD-CaxmjFb",
        "outputId": "1df69ad1-ea02-4b72-a92a-b2583d67821f"
      },
      "execution_count": 20,
      "outputs": [
        {
          "output_type": "display_data",
          "data": {
            "text/plain": [
              "<Figure size 600x400 with 1 Axes>"
            ],
            "image/png": "[encoded data removed]"
          },
          "metadata": {}
        }
      ]
    },
    {
      "cell_type": "markdown",
      "source": [
        "**K Values selection**\n",
        "* **Silhouette score** is highest at **K = 2** (\\~0.29), indicating the most distinct separation when forcing just two clusters.\n",
        "* **Elbow method** shows a clear bend around **K = 4–5**, where the marginal gain in reducing within-cluster variance diminishes.\n",
        "* **Trade-off**: K = 2 yields the tightest, most cohesive clusters, but may be too coarse for nuanced marketing segments.\n",
        "* **Recommendation**: choose **K = 4** for a balance between cluster quality and actionable customer segmentation."
      ],
      "metadata": {
        "id": "WVKUGuKPggm9"
      }
    },
    {
      "cell_type": "code",
      "source": [
        "best_k = 4  # for example, based on the above\n",
        "kmeans = KMeans(n_clusters=best_k, random_state=42, n_init=20)\n",
        "df1['cluster'] = kmeans.fit_predict(X_scaled)"
      ],
      "metadata": {
        "id": "iIrk5_n6geJW"
      },
      "execution_count": 21,
      "outputs": []
    },
    {
      "cell_type": "code",
      "source": [
        "# Invert scaling to get centers in original units\n",
        "four_centers = scaler.inverse_transform(kmeans.cluster_centers_)\n",
        "four_centers_df = pd.DataFrame(four_centers, columns=X.columns)\n",
        "print(four_centers_df)"
      ],
      "metadata": {
        "colab": {
          "base_uri": "https://localhost:8080/"
        },
        "id": "bi1FFOzogeGm",
        "outputId": "4e8d3ed6-0b04-4b54-fbe8-529be586096c"
      },
      "execution_count": 22,
      "outputs": [
        {
          "output_type": "stream",
          "name": "stdout",
          "text": [
            "         age       default      balance   housing      loan  day_of_week  \\\n",
            "0  39.534969  1.000000e+00  -137.624540  0.533742  0.369325    16.385276   \n",
            "1  41.148190 -2.390449e-15  1564.512360  0.629838  0.136454    14.232210   \n",
            "2  33.659657  5.551115e-17  1297.776963  0.525564  0.130909    16.001351   \n",
            "3  43.813720  5.054984e-15  1372.688163  0.545811  0.172675    16.195234   \n",
            "\n",
            "      month    duration  campaign       pdays  previous  contact_bin  \\\n",
            "0  6.411043  239.115337  3.148466   18.042945  0.268712     0.742331   \n",
            "1  5.810112  260.488639  2.065918  227.645069  3.210861     0.093009   \n",
            "2  5.900733  271.038877  2.768088    0.324040  0.024986     0.688308   \n",
            "3  6.336472  252.914258  2.964950   -0.926864  0.001537     0.786357   \n",
            "\n",
            "   marital_married  marital_single  poutcome_nonexistent  poutcome_other  \\\n",
            "0     5.496933e-01        0.293252              0.930061    1.963190e-02   \n",
            "1     5.860175e-01        0.299376              0.000250    2.277154e-01   \n",
            "2     2.042810e-14        0.979066              0.984565    4.107825e-15   \n",
            "3     8.482706e-01        0.000154              0.998962   -2.030320e-14   \n",
            "\n",
            "   poutcome_success  job_freq  education_ord  \n",
            "0      2.453988e-03  0.150051       1.087117  \n",
            "1      1.883895e-01  0.148039       1.193258  \n",
            "2     -3.524958e-15  0.148826       1.312367  \n",
            "3      6.265821e-15  0.150138       1.061222  \n"
          ]
        }
      ]
    },
    {
      "cell_type": "code",
      "source": [
        "# Pandas ≥1.5\n",
        "cluster_summary = df1.groupby('cluster').mean(numeric_only=True).T\n",
        "print(cluster_summary)"
      ],
      "metadata": {
        "colab": {
          "base_uri": "https://localhost:8080/"
        },
        "id": "aeXRHESDgeDy",
        "outputId": "98d40720-f8ae-4765-8f97-1f4ef973abfe"
      },
      "execution_count": 23,
      "outputs": [
        {
          "output_type": "stream",
          "name": "stdout",
          "text": [
            "cluster                        0            1            2            3\n",
            "age                    39.534969    41.145103    33.659367    43.815299\n",
            "default                 1.000000     0.000000     0.000000     0.000000\n",
            "balance              -137.624540  1564.243918  1297.845649  1372.706631\n",
            "housing                 0.533742     0.629694     0.525854     0.545724\n",
            "loan                    0.369325     0.136369     0.131005     0.172670\n",
            "month                   6.411043     5.812352     5.898611     6.336729\n",
            "duration              239.115337   260.425078   271.231816   252.855506\n",
            "campaign                3.148466     2.065502     2.768667     2.965020\n",
            "pdays                  18.042945   227.566064     0.274841    -0.926850\n",
            "previous                0.268712     3.210106     0.024021     0.001538\n",
            "y                       0.063804     0.230942     0.125892     0.079992\n",
            "marital_married         0.549693     0.585652     0.000000     0.848434\n",
            "marital_single          0.293252     0.299813     0.978584     0.000154\n",
            "poutcome_nonexistent    0.930061     0.000250     0.985047     0.998962\n",
            "poutcome_other          0.019632     0.227573     0.000000     0.000000\n",
            "poutcome_success        0.002454     0.188272     0.000000     0.000000\n"
          ]
        }
      ]
    },
    {
      "cell_type": "code",
      "source": [
        "from sklearn.decomposition import PCA\n",
        "\n",
        "pca2 = PCA(n_components=2, random_state=42)\n",
        "X_pca2 = pca2.fit_transform(X_scaled)\n",
        "\n",
        "plt.figure(figsize=(6,5))\n",
        "plt.scatter(X_pca2[:,0], X_pca2[:,1], c=df1['cluster'], cmap='tab10', s=10)\n",
        "plt.xlabel('PC1')\n",
        "plt.ylabel('PC2')\n",
        "plt.title('Clusters in PCA space  space with k = 4')\n",
        "plt.show()"
      ],
      "metadata": {
        "colab": {
          "base_uri": "https://localhost:8080/",
          "height": 487
        },
        "id": "814rYGDYgeBP",
        "outputId": "32fcc364-9f53-4031-e26b-2969fe000946"
      },
      "execution_count": 24,
      "outputs": [
        {
          "output_type": "display_data",
          "data": {
            "text/plain": [
              "<Figure size 600x500 with 1 Axes>"
            ],
            "image/png": "[encoded data removed]"
          },
          "metadata": {}
        }
      ]
    },
    {
      "cell_type": "code",
      "source": [
        "# If you clustered on X_scaled:\n",
        "centroids = pd.DataFrame(\n",
        "    kmeans.cluster_centers_,\n",
        "    columns=X_scaled.columns,\n",
        "    index=[f\"cluster_{i}\" for i in range(kmeans.n_clusters)]\n",
        ")\n",
        "\n",
        "# If you used PCA, centroids are in PCA space; to get back to original:\n",
        "orig_centroids = pd.DataFrame(\n",
        "    scaler.inverse_transform(kmeans.cluster_centers_),\n",
        "    columns=X_scaled.columns,\n",
        "    index=centroids.index\n",
        ")\n",
        "\n",
        "# View means by cluster\n",
        "print(orig_centroids.round(2))"
      ],
      "metadata": {
        "colab": {
          "base_uri": "https://localhost:8080/"
        },
        "id": "eW_ggoFAgd-r",
        "outputId": "51f882fb-b8d3-4af7-d912-b16e0ff7e1ae"
      },
      "execution_count": 25,
      "outputs": [
        {
          "output_type": "stream",
          "name": "stdout",
          "text": [
            "             age  default  balance  housing  loan  day_of_week  month  \\\n",
            "cluster_0  39.53      1.0  -137.62     0.53  0.37        16.39   6.41   \n",
            "cluster_1  41.15     -0.0  1564.51     0.63  0.14        14.23   5.81   \n",
            "cluster_2  33.66      0.0  1297.78     0.53  0.13        16.00   5.90   \n",
            "cluster_3  43.81      0.0  1372.69     0.55  0.17        16.20   6.34   \n",
            "\n",
            "           duration  campaign   pdays  previous  contact_bin  marital_married  \\\n",
            "cluster_0    239.12      3.15   18.04      0.27         0.74             0.55   \n",
            "cluster_1    260.49      2.07  227.65      3.21         0.09             0.59   \n",
            "cluster_2    271.04      2.77    0.32      0.02         0.69             0.00   \n",
            "cluster_3    252.91      2.96   -0.93      0.00         0.79             0.85   \n",
            "\n",
            "           marital_single  poutcome_nonexistent  poutcome_other  \\\n",
            "cluster_0            0.29                  0.93            0.02   \n",
            "cluster_1            0.30                  0.00            0.23   \n",
            "cluster_2            0.98                  0.98            0.00   \n",
            "cluster_3            0.00                  1.00           -0.00   \n",
            "\n",
            "           poutcome_success  job_freq  education_ord  \n",
            "cluster_0              0.00      0.15           1.09  \n",
            "cluster_1              0.19      0.15           1.19  \n",
            "cluster_2             -0.00      0.15           1.31  \n",
            "cluster_3              0.00      0.15           1.06  \n"
          ]
        }
      ]
    },
    {
      "cell_type": "markdown",
      "source": [
        "## k = 2"
      ],
      "metadata": {
        "id": "HR2iDXBBgs1h"
      }
    },
    {
      "cell_type": "code",
      "source": [
        "best_k = 2  # for example, based on the above\n",
        "kmeans = KMeans(n_clusters=best_k, random_state=42, n_init=20)\n",
        "df1['cluster'] = kmeans.fit_predict(X_scaled)"
      ],
      "metadata": {
        "id": "aE4eEMRlgd71"
      },
      "execution_count": 26,
      "outputs": []
    },
    {
      "cell_type": "code",
      "source": [
        "# Invert scaling to get centers in original units\n",
        "two_centers = scaler.inverse_transform(kmeans.cluster_centers_)\n",
        "two_centers_df = pd.DataFrame(two_centers, columns=X.columns)\n",
        "print(two_centers_df)"
      ],
      "metadata": {
        "colab": {
          "base_uri": "https://localhost:8080/"
        },
        "id": "m3hrTkfLgd5R",
        "outputId": "e28ec1a1-2557-4f8a-96f4-5b6cf2c0b599"
      },
      "execution_count": 27,
      "outputs": [
        {
          "output_type": "stream",
          "name": "stdout",
          "text": [
            "         age   default      balance   housing      loan  day_of_week  \\\n",
            "0  40.953305  0.006913  1557.149788  0.623166  0.135961    14.281140   \n",
            "1  40.932397  0.020505  1318.805984  0.540821  0.165639    16.146621   \n",
            "\n",
            "      month    duration  campaign       pdays  previous  contact_bin  \\\n",
            "0  5.829230  259.880776  2.056519  224.828745  3.180109     0.093390   \n",
            "1  6.215008  257.779960  2.921604   -0.982768  0.000460     0.762214   \n",
            "\n",
            "   marital_married  marital_single  poutcome_nonexistent  poutcome_other  \\\n",
            "0         0.574287        0.312796              0.000243    2.231656e-01   \n",
            "1         0.608099        0.276227              0.999757   -2.508410e-14   \n",
            "\n",
            "   poutcome_success  job_freq  education_ord  \n",
            "0      1.832626e-01  0.147798       1.198423  \n",
            "1     -9.332812e-15  0.149835       1.130228  \n"
          ]
        }
      ]
    },
    {
      "cell_type": "code",
      "source": [
        "# Pandas ≥1.5\n",
        "cluster_summary = df1.groupby('cluster').mean(numeric_only=True).T\n",
        "print(cluster_summary)"
      ],
      "metadata": {
        "colab": {
          "base_uri": "https://localhost:8080/"
        },
        "id": "iqfqoZdVgd2w",
        "outputId": "a301caf3-f240-4dc8-81c4-a22dea5b4e22"
      },
      "execution_count": 28,
      "outputs": [
        {
          "output_type": "stream",
          "name": "stdout",
          "text": [
            "cluster                         0            1\n",
            "age                     40.953305    40.932397\n",
            "default                  0.006913     0.020505\n",
            "balance               1557.149788  1318.805984\n",
            "housing                  0.623166     0.540821\n",
            "loan                     0.135961     0.165639\n",
            "month                    5.829230     6.215008\n",
            "duration               259.880776   257.779960\n",
            "campaign                 2.056519     2.921604\n",
            "pdays                  224.828745    -0.982768\n",
            "previous                 3.180109     0.000460\n",
            "y                        0.230321     0.091706\n",
            "marital_married          0.574287     0.608099\n",
            "marital_single           0.312796     0.276227\n",
            "poutcome_nonexistent     0.000243     0.999757\n",
            "poutcome_other           0.223166     0.000000\n",
            "poutcome_success         0.183263     0.000000\n"
          ]
        }
      ]
    },
    {
      "cell_type": "code",
      "source": [
        "from sklearn.decomposition import PCA\n",
        "\n",
        "pca2 = PCA(n_components=2, random_state=42)\n",
        "X_pca2 = pca2.fit_transform(X_scaled)\n",
        "\n",
        "plt.figure(figsize=(6,5))\n",
        "plt.scatter(X_pca2[:,0], X_pca2[:,1], c=df1['cluster'], cmap='tab10', s=10)\n",
        "plt.xlabel('PC1')\n",
        "plt.ylabel('PC2')\n",
        "plt.title('Clusters in PCA space with k = 2')\n",
        "plt.show()"
      ],
      "metadata": {
        "colab": {
          "base_uri": "https://localhost:8080/",
          "height": 487
        },
        "id": "OfCBjGASgdz_",
        "outputId": "80fc74f2-e6c9-4f5a-cae7-692421dcf2f5"
      },
      "execution_count": 29,
      "outputs": [
        {
          "output_type": "display_data",
          "data": {
            "text/plain": [
              "<Figure size 600x500 with 1 Axes>"
            ],
            "image/png": "[encoded data removed]"
          },
          "metadata": {}
        }
      ]
    },
    {
      "cell_type": "code",
      "source": [
        "\n",
        "# If you clustered on X_scaled:\n",
        "centroids = pd.DataFrame(\n",
        "    kmeans.cluster_centers_,\n",
        "    columns=X_scaled.columns,\n",
        "    index=[f\"cluster_{i}\" for i in range(kmeans.n_clusters)]\n",
        ")\n",
        "\n",
        "# If you used PCA, centroids are in PCA space; to get back to original:\n",
        "orig_centroids = pd.DataFrame(\n",
        "    scaler.inverse_transform(kmeans.cluster_centers_),\n",
        "    columns=X_scaled.columns,\n",
        "    index=centroids.index\n",
        ")\n",
        "\n",
        "# View means by cluster\n",
        "print(orig_centroids.round(2))"
      ],
      "metadata": {
        "colab": {
          "base_uri": "https://localhost:8080/"
        },
        "id": "svoHJbFKgdxM",
        "outputId": "c6987b55-0826-4e1e-ac84-fb78890706b7"
      },
      "execution_count": 30,
      "outputs": [
        {
          "output_type": "stream",
          "name": "stdout",
          "text": [
            "             age  default  balance  housing  loan  day_of_week  month  \\\n",
            "cluster_0  40.95     0.01  1557.15     0.62  0.14        14.28   5.83   \n",
            "cluster_1  40.93     0.02  1318.81     0.54  0.17        16.15   6.22   \n",
            "\n",
            "           duration  campaign   pdays  previous  contact_bin  marital_married  \\\n",
            "cluster_0    259.88      2.06  224.83      3.18         0.09             0.57   \n",
            "cluster_1    257.78      2.92   -0.98      0.00         0.76             0.61   \n",
            "\n",
            "           marital_single  poutcome_nonexistent  poutcome_other  \\\n",
            "cluster_0            0.31                   0.0            0.22   \n",
            "cluster_1            0.28                   1.0           -0.00   \n",
            "\n",
            "           poutcome_success  job_freq  education_ord  \n",
            "cluster_0              0.18      0.15           1.20  \n",
            "cluster_1             -0.00      0.15           1.13  \n"
          ]
        }
      ]
    },
    {
      "cell_type": "markdown",
      "source": [
        "## Clusert Analysis (between k = 2 vs 4)"
      ],
      "metadata": {
        "id": "dYStchTcg3cq"
      }
    },
    {
      "cell_type": "markdown",
      "source": [
        "**Granularity of Segments**\n",
        "\n",
        "- K = 2 yields two broad groups with very similar log-age (~3.70) and job-frequency (~0.15), offering only a coarse split.\n",
        "\n",
        "- K = 4 distinguishes a third cluster (Cluster 2) with notably younger/older profiles (log-age 3.53 vs. 3.78) and a fourth niche high-loan, low-balance group (Cluster 3), enabling finer targeting.\n",
        "\n",
        "**Behavioral Differentiation**\n",
        "\n",
        "- In K = 2, both clusters share high poutcome_nonexistent (0.0 vs. 1.0) but differ mainly on previous contact (pdays) and response flags—without much operational insight.\n",
        "\n",
        "- In K = 4, Cluster 3 stands out with a high default rate (1.0), low balance (1.36), and frequent loans (0.37), flagging a distinct high-risk segment, while Cluster 1/2 capture married vs. single patterns more clearly.\n",
        "\n",
        "**Cluster Cohesion vs. Actionability**\n",
        "\n",
        "- K = 2 maximizes separation but lumps too many behaviors together, limiting actionable differentiation.\n",
        "\n",
        "- K = 4 slightly sacrifices overall cohesion to carve out meaningful personas—e.g., a “high-risk loan-seekers” cluster and a “previously uncontacted” cluster—better aligning to tailored marketing strategies.\n",
        "\n",
        "**Recommendation**\n",
        "\n",
        "- For broad segmentation with highest silhouette, K = 2 is acceptable.\n",
        "\n",
        "- For business impact—identifying distinct risk, loan-needs, and contact-history segments—K = 4 is the better choice."
      ],
      "metadata": {
        "id": "4RbLy3vpg_UN"
      }
    },
    {
      "cell_type": "markdown",
      "source": [
        "# 6B. DBSCAN - (Density-based spatial clustering of applications with noise)"
      ],
      "metadata": {
        "id": "CudMK7Y-hCPn"
      }
    },
    {
      "cell_type": "code",
      "source": [
        "# 8) Build feature matrix & scale\n",
        "feature_cols = [c for c in df1.columns if c != 'y']\n",
        "X = df1[feature_cols]\n",
        "scaler = StandardScaler()\n",
        "X_scaled = scaler.fit_transform(X)"
      ],
      "metadata": {
        "id": "t8d_d8v5g3J1"
      },
      "execution_count": 31,
      "outputs": []
    },
    {
      "cell_type": "markdown",
      "source": [
        "**K-Distance Plot:**\n",
        "* The curve is almost flat near zero for most points, showing a dense core where the 5th‐NN distance is very small.\n",
        "* There’s a sharp “knee” at the far right—those large jumps mark true outliers whose neighborhoods suddenly expand.\n",
        "* Since `eps=0.5` lies in the flat zone, you should choose a larger `eps` (around where distances jump from \\~1 to \\~5) to capture meaningful clusters.\n",
        "* I have increased `eps` compared to earlier trials to avoid cluster instability and prevent over-fragmentation into tiny groups.\n"
      ],
      "metadata": {
        "id": "od_FzX-bpX2H"
      }
    },
    {
      "cell_type": "code",
      "source": [
        "import numpy as np\n",
        "import pandas as pd\n",
        "import matplotlib.pyplot as plt\n",
        "from sklearn.neighbors import NearestNeighbors\n",
        "from sklearn.cluster import DBSCAN\n",
        "from sklearn.metrics import silhouette_score\n",
        "from sklearn.decomposition import PCA\n",
        "\n",
        "# 1) k-distance plot for k=5 to choose eps\n",
        "k = 5\n",
        "nbrs = NearestNeighbors(n_neighbors=k).fit(X_scaled)\n",
        "distances, _ = nbrs.kneighbors(X_scaled)\n",
        "distances = np.sort(distances[:, k-1])\n",
        "plt.figure(figsize=(6,4))\n",
        "plt.plot(distances)\n",
        "plt.axvline(x=0.5, color='r', linestyle='--', label='eps=0.5')\n",
        "plt.xlabel(f\"Points sorted by distance to {k}th NN\")\n",
        "plt.ylabel(f\"{k}th nearest neighbor distance\")\n",
        "plt.title(\"k-distance Plot\")\n",
        "plt.legend()\n",
        "plt.show()"
      ],
      "metadata": {
        "colab": {
          "base_uri": "https://localhost:8080/",
          "height": 410
        },
        "id": "n4sO_3Ckg3Gy",
        "outputId": "6bdbd42b-249f-48c0-ec54-84497562d66f"
      },
      "execution_count": 33,
      "outputs": [
        {
          "output_type": "display_data",
          "data": {
            "text/plain": [
              "<Figure size 600x400 with 1 Axes>"
            ],
            "image/png": "[encoded data removed]"
          },
          "metadata": {}
        }
      ]
    },
    {
      "cell_type": "code",
      "source": [
        "# 0) Pre-reduce dimension to 10 for speed\n",
        "pca = PCA(n_components=10, random_state=42)\n",
        "X_reduced = pca.fit_transform(X_scaled)"
      ],
      "metadata": {
        "id": "hYgQnZxCocAr"
      },
      "execution_count": 34,
      "outputs": []
    },
    {
      "cell_type": "code",
      "source": [
        "\n",
        "\n",
        "# 1) Prepare sample indices for silhouette (max 5k pts)\n",
        "n_samples = X_reduced.shape[0]\n",
        "sample_size = min(5000, n_samples)\n",
        "rnd_idx = np.random.RandomState(42).choice(n_samples, sample_size, replace=False)\n"
      ],
      "metadata": {
        "id": "fbMZaFsPg3EL"
      },
      "execution_count": 35,
      "outputs": []
    },
    {
      "cell_type": "code",
      "source": [
        "# 2) Wider grid for eps and min_samples\n",
        "eps_values        = np.linspace(0.5, 1.5, 6)   # [0.5, 0.7, 0.9, 1.1, 1.3, 1.5]\n",
        "min_samples_values = [5, 10, 15, 20]\n",
        "best_score, best_params = -1, {}\n",
        "\n",
        "for eps in eps_values:\n",
        "    for ms in min_samples_values:\n",
        "        db = DBSCAN(eps=eps, min_samples=ms).fit(X_reduced)\n",
        "        labels = db.labels_\n",
        "\n",
        "        # need at least 2 real clusters for silhouette\n",
        "        mask = labels[rnd_idx] != -1\n",
        "        unique = np.unique(labels[rnd_idx][mask])\n",
        "        if len(unique) > 1:\n",
        "            score = silhouette_score(X_reduced[rnd_idx][mask], labels[rnd_idx][mask])\n",
        "            if score > best_score:\n",
        "                best_score = score\n",
        "                best_params = {'eps': float(eps), 'min_samples': int(ms), 'score': score}\n",
        "\n",
        "print(\"Best DBSCAN params:\", best_params)\n"
      ],
      "metadata": {
        "colab": {
          "base_uri": "https://localhost:8080/"
        },
        "id": "ng6V81_1g3Ba",
        "outputId": "e6c03bdb-3109-4eb1-e49a-f84da00d7e5b"
      },
      "execution_count": 36,
      "outputs": [
        {
          "output_type": "stream",
          "name": "stdout",
          "text": [
            "Best DBSCAN params: {'eps': 1.5, 'min_samples': 20, 'score': np.float64(0.31938517904875785)}\n"
          ]
        }
      ]
    },
    {
      "cell_type": "code",
      "source": [
        "# 3) Fit final DBSCAN\n",
        "db_final = DBSCAN(eps=best_params['eps'], min_samples=best_params['min_samples'])\n",
        "df1['dbscan_cluster'] = db_final.fit_predict(X_reduced)"
      ],
      "metadata": {
        "id": "napoYiOyg2-q"
      },
      "execution_count": 37,
      "outputs": []
    },
    {
      "cell_type": "code",
      "source": [
        "# 4) Show cluster sizes\n",
        "print(\"\\nCluster sizes (incl. noise):\")\n",
        "print(df1['dbscan_cluster'].value_counts().head(10))"
      ],
      "metadata": {
        "colab": {
          "base_uri": "https://localhost:8080/"
        },
        "id": "LP8tLBx2g27z",
        "outputId": "bbf94f50-0d13-4b48-8d86-c76fba84821d"
      },
      "execution_count": 38,
      "outputs": [
        {
          "output_type": "stream",
          "name": "stdout",
          "text": [
            "\n",
            "Cluster sizes (incl. noise):\n",
            "dbscan_cluster\n",
            " 0    35329\n",
            " 4     4478\n",
            "-1     2295\n",
            " 5     1236\n",
            " 6     1220\n",
            " 1      393\n",
            " 7      104\n",
            " 2      101\n",
            " 3       34\n",
            " 8       21\n",
            "Name: count, dtype: int64\n"
          ]
        }
      ]
    },
    {
      "cell_type": "code",
      "source": [
        "# 5) (Optional) compute silhouette on final\n",
        "mask = df1['dbscan_cluster'] != -1\n",
        "if len(np.unique(df1.loc[mask, 'dbscan_cluster'])) > 1:\n",
        "    sil = silhouette_score(X_reduced[mask], df1.loc[mask, 'dbscan_cluster'])\n",
        "    print(f\"\\nFinal silhouette (no noise): {sil:.3f}\")"
      ],
      "metadata": {
        "colab": {
          "base_uri": "https://localhost:8080/"
        },
        "id": "p8pE_b1AhNKV",
        "outputId": "8cca5d46-ceaf-489a-c0ff-73dd620b4189"
      },
      "execution_count": 39,
      "outputs": [
        {
          "output_type": "stream",
          "name": "stdout",
          "text": [
            "\n",
            "Final silhouette (no noise): 0.316\n"
          ]
        }
      ]
    },
    {
      "cell_type": "code",
      "source": [
        "# 5) 2D PCA visualization of clusters\n",
        "pca2 = PCA(n_components=2, random_state=42)\n",
        "X2 = pca2.fit_transform(X_scaled)\n",
        "\n",
        "plt.figure(figsize=(6,5))\n",
        "scatter = plt.scatter(\n",
        "    X2[:,0], X2[:,1],\n",
        "    c=df1['dbscan_cluster'], cmap='tab10', s=10, alpha=0.7\n",
        ")\n",
        "plt.title(\"DBSCAN Clusters in PCA Space\")\n",
        "plt.xlabel(\"PC1\")\n",
        "plt.ylabel(\"PC2\")\n",
        "plt.legend(*scatter.legend_elements(), title=\"Cluster\")\n",
        "plt.show()"
      ],
      "metadata": {
        "colab": {
          "base_uri": "https://localhost:8080/",
          "height": 487
        },
        "id": "Im4zJTMyhNHU",
        "outputId": "f3cb8206-96bb-45e9-97be-1640e7277bdb"
      },
      "execution_count": 40,
      "outputs": [
        {
          "output_type": "display_data",
          "data": {
            "text/plain": [
              "<Figure size 600x500 with 1 Axes>"
            ],
            "image/png": "[encoded data removed]"
          },
          "metadata": {}
        }
      ]
    },
    {
      "cell_type": "code",
      "source": [
        "# 1) Select only numeric columns\n",
        "num_cols = df1.select_dtypes(include=['number']).columns.tolist()\n",
        "\n",
        "# 2) Group by DBSCAN label and compute means\n",
        "dbscan_summary = (\n",
        "    df1[num_cols]\n",
        "      .groupby(df1['dbscan_cluster'])\n",
        "      .mean(numeric_only=True)\n",
        "      .T\n",
        ")\n",
        "\n",
        "# 3) Display\n",
        "print(\"DBSCAN cluster centroids (mean values):\")\n",
        "print(dbscan_summary.round(3))"
      ],
      "metadata": {
        "colab": {
          "base_uri": "https://localhost:8080/"
        },
        "id": "Zwn4DisFhNEY",
        "outputId": "bdc6b854-b382-483d-cbf1-94cac69318f3"
      },
      "execution_count": 41,
      "outputs": [
        {
          "output_type": "stream",
          "name": "stdout",
          "text": [
            "DBSCAN cluster centroids (mean values):\n",
            "dbscan_cluster              -1         0        1        2        3         4  \\\n",
            "age                     43.675    40.914   39.115   42.436   33.735    40.557   \n",
            "default                  0.125     0.000    1.000    1.000    1.000     0.000   \n",
            "balance               5872.600  1137.979 -138.163 -241.960 -113.324  1162.427   \n",
            "housing                  0.482     0.543    0.603    0.485    0.118     0.720   \n",
            "loan                     0.317     0.158    0.000    1.000    1.000     0.147   \n",
            "month                    6.511     6.194    6.443    6.812    7.471     5.714   \n",
            "duration               554.771   246.188  207.626  155.139  231.794   218.556   \n",
            "campaign                 4.766     2.789    2.623    2.406    2.353     1.944   \n",
            "pdays                  110.011    -0.995   -1.000   -1.000   -1.000   241.518   \n",
            "previous                 2.693     0.000    0.000    0.000    0.000     2.674   \n",
            "y                        0.304     0.088    0.038    0.000    0.029     0.113   \n",
            "marital_married          0.500     0.612    0.598    0.871    0.000     0.607   \n",
            "marital_single           0.329     0.274    0.272    0.000    0.971     0.284   \n",
            "poutcome_nonexistent     0.479     1.000    1.000    1.000    1.000     0.000   \n",
            "poutcome_other           0.209     0.000    0.000    0.000    0.000     0.000   \n",
            "poutcome_success         0.127     0.000    0.000    0.000    0.000     0.000   \n",
            "cluster                  0.483     1.000    1.000    1.000    1.000     0.000   \n",
            "dbscan_cluster          -1.000     0.000    1.000    2.000    3.000     4.000   \n",
            "\n",
            "dbscan_cluster              5         6        7        8  \n",
            "age                    37.453    42.167   40.663   33.143  \n",
            "default                 0.000     0.000    0.000    0.000  \n",
            "balance               909.809  1312.181  528.788  250.048  \n",
            "housing                 0.698     0.296    0.856    0.952  \n",
            "loan                    0.001     0.000    1.000    1.000  \n",
            "month                   5.126     6.678    3.683    4.381  \n",
            "duration              210.020   273.051  204.385  154.571  \n",
            "campaign                2.430     1.758    2.260    2.190  \n",
            "pdays                 238.577   158.057  240.365  302.476  \n",
            "previous                3.278     2.949    3.519    3.048  \n",
            "y                       0.147     0.647    0.038    0.000  \n",
            "marital_married         0.518     0.559    0.904    0.000  \n",
            "marital_single          0.391     0.356    0.000    1.000  \n",
            "poutcome_nonexistent    0.000     0.000    0.000    0.000  \n",
            "poutcome_other          1.000     0.000    1.000    1.000  \n",
            "poutcome_success        0.000     1.000    0.000    0.000  \n",
            "cluster                 0.000     0.000    0.000    0.000  \n",
            "dbscan_cluster          5.000     6.000    7.000    8.000  \n"
          ]
        }
      ]
    },
    {
      "cell_type": "markdown",
      "source": [
        "# 6C. Gaussian Mixture Models (GMM)\n"
      ],
      "metadata": {
        "id": "39UaCwIfiI6m"
      }
    },
    {
      "cell_type": "code",
      "source": [
        "import numpy as np\n",
        "import pandas as pd\n",
        "import matplotlib.pyplot as plt\n",
        "from sklearn.preprocessing import StandardScaler\n",
        "from sklearn.decomposition import PCA\n",
        "from sklearn.mixture import GaussianMixture\n",
        "from sklearn.metrics import silhouette_score\n"
      ],
      "metadata": {
        "id": "sxlK-k9FhNBa"
      },
      "execution_count": 42,
      "outputs": []
    },
    {
      "cell_type": "code",
      "source": [
        "# --- 1) Prepare feature matrix ---\n",
        "feature_cols = [c for c in df1.columns if c != 'y']\n",
        "X = df1[feature_cols].values"
      ],
      "metadata": {
        "id": "R1hMllpUhTfi"
      },
      "execution_count": 43,
      "outputs": []
    },
    {
      "cell_type": "code",
      "source": [
        "# --- 2) Scale features ---\n",
        "scaler = StandardScaler()\n",
        "X_scaled = scaler.fit_transform(X)"
      ],
      "metadata": {
        "id": "DfqYv3KjhTcm"
      },
      "execution_count": 44,
      "outputs": []
    },
    {
      "cell_type": "code",
      "source": [
        "# --- 3) Optional PCA for speed/denoise ---\n",
        "pca = PCA(n_components=10, random_state=42)\n",
        "X_reduced = pca.fit_transform(X_scaled)"
      ],
      "metadata": {
        "id": "myFWrN-9hTZv"
      },
      "execution_count": 45,
      "outputs": []
    },
    {
      "cell_type": "code",
      "source": [
        "# --- 4) Model selection: pick n_components via BIC ---\n",
        "n_components = np.arange(2, 11)\n",
        "bics = []\n",
        "for k in n_components:\n",
        "    gmm = GaussianMixture(n_components=k,\n",
        "                          covariance_type='full',\n",
        "                          random_state=42,\n",
        "                          n_init=3)\n",
        "    gmm.fit(X_reduced)\n",
        "    bics.append(gmm.bic(X_reduced))"
      ],
      "metadata": {
        "id": "smzVrXLMhTW9"
      },
      "execution_count": 46,
      "outputs": []
    },
    {
      "cell_type": "code",
      "source": [
        "# Plot BIC curve\n",
        "plt.figure(figsize=(6,4))\n",
        "plt.plot(n_components, bics, marker='o')\n",
        "plt.xlabel(\"Number of GMM components\")\n",
        "plt.ylabel(\"BIC\")\n",
        "plt.title(\"GMM Model Selection via BIC\")\n",
        "plt.show()\n"
      ],
      "metadata": {
        "colab": {
          "base_uri": "https://localhost:8080/",
          "height": 410
        },
        "id": "s9FbQXmHhTUR",
        "outputId": "2c57f16b-ee57-47c9-fd84-8edb5b42b0f7"
      },
      "execution_count": 47,
      "outputs": [
        {
          "output_type": "display_data",
          "data": {
            "text/plain": [
              "<Figure size 600x400 with 1 Axes>"
            ],
            "image/png": "[encoded data removed]"
          },
          "metadata": {}
        }
      ]
    },
    {
      "cell_type": "code",
      "source": [
        "# Choose the K with lowest BIC\n",
        "best_k = n_components[np.argmin(bics)]\n",
        "print(f\"Selecting n_components = {best_k} (lowest BIC)\")\n"
      ],
      "metadata": {
        "colab": {
          "base_uri": "https://localhost:8080/"
        },
        "id": "kkX_5z4qhe-k",
        "outputId": "6add27bb-97f3-49ff-a314-d9191e767a85"
      },
      "execution_count": 48,
      "outputs": [
        {
          "output_type": "stream",
          "name": "stdout",
          "text": [
            "Selecting n_components = 10 (lowest BIC)\n"
          ]
        }
      ]
    },
    {
      "cell_type": "code",
      "source": [
        "# --- 5) Fit final GMM ---\n",
        "gmm = GaussianMixture(n_components=best_k,\n",
        "                      covariance_type='full',\n",
        "                      random_state=42,\n",
        "                      n_init=5)\n",
        "labels = gmm.fit_predict(X_reduced)\n",
        "df1['gmm_cluster'] = labels"
      ],
      "metadata": {
        "id": "NqXGJjw_hify"
      },
      "execution_count": 49,
      "outputs": []
    },
    {
      "cell_type": "code",
      "source": [
        "# --- 6) Inspect cluster sizes ---\n",
        "print(\"\\nGMM cluster sizes:\")\n",
        "print(pd.Series(labels).value_counts().sort_index())"
      ],
      "metadata": {
        "colab": {
          "base_uri": "https://localhost:8080/"
        },
        "id": "IhTGDSvrhjx4",
        "outputId": "7171f8fb-f54f-4753-f7d0-309cf3a4a3e1"
      },
      "execution_count": 50,
      "outputs": [
        {
          "output_type": "stream",
          "name": "stdout",
          "text": [
            "\n",
            "GMM cluster sizes:\n",
            "0     3156\n",
            "1    11315\n",
            "2     7083\n",
            "3     2705\n",
            "4     1499\n",
            "5     7006\n",
            "6      815\n",
            "7     3117\n",
            "8     1244\n",
            "9     7271\n",
            "Name: count, dtype: int64\n"
          ]
        }
      ]
    },
    {
      "cell_type": "code",
      "source": [
        "\n",
        "# --- 7) Silhouette score (requires ≥2 clusters) ---\n",
        "if len(set(labels)) > 1:\n",
        "    sil = silhouette_score(X_reduced, labels)\n",
        "    print(f\"\\nSilhouette score: {sil:.3f}\")\n",
        "else:\n",
        "    print(\"\\nOnly one cluster found; silhouette N/A.\")\n"
      ],
      "metadata": {
        "colab": {
          "base_uri": "https://localhost:8080/"
        },
        "id": "M1jAkJSahjvI",
        "outputId": "cbc70ad4-c5fa-422d-bf38-870147ab299f"
      },
      "execution_count": 51,
      "outputs": [
        {
          "output_type": "stream",
          "name": "stdout",
          "text": [
            "\n",
            "Silhouette score: 0.107\n"
          ]
        }
      ]
    },
    {
      "cell_type": "code",
      "source": [
        "# --- 8) Profile clusters by mean feature values ---\n",
        "cluster_means = (\n",
        "    df1\n",
        "    .select_dtypes(include='number')\n",
        "    .groupby(df1['gmm_cluster'])\n",
        "    .mean()\n",
        "    .T\n",
        ")\n",
        "print(\"\\nCluster centroids (mean values):\")\n",
        "print(cluster_means.round(3))\n"
      ],
      "metadata": {
        "colab": {
          "base_uri": "https://localhost:8080/"
        },
        "id": "DCRgmm_9hjsS",
        "outputId": "3d96d71a-bad9-45b2-b8f2-6707cc79fde7"
      },
      "execution_count": 52,
      "outputs": [
        {
          "output_type": "stream",
          "name": "stdout",
          "text": [
            "\n",
            "Cluster centroids (mean values):\n",
            "gmm_cluster                  0        1        2         3         4        5  \\\n",
            "age                     42.264   42.812   42.264    41.065    42.984   32.223   \n",
            "default                  0.000    0.000    0.000     0.000     0.000    0.000   \n",
            "balance               1163.119  822.250  798.279  4914.897  1748.929  466.955   \n",
            "housing                  0.509    0.472    0.721     0.607     0.312    0.545   \n",
            "loan                     0.464    0.184    0.169     0.156     0.053    0.150   \n",
            "month                    6.580    6.765    5.395     5.791     6.593    5.667   \n",
            "duration               509.459  240.941  238.718   306.285   317.185  248.371   \n",
            "campaign                 7.704    2.648    2.374     2.535     1.809    1.930   \n",
            "pdays                   -1.000   -1.000   -1.000   201.282   163.520   -1.000   \n",
            "previous                 0.000    0.000    0.000     3.756     3.058    0.000   \n",
            "y                        0.207    0.094    0.026     0.181     0.647    0.111   \n",
            "marital_married          0.398    1.000    1.000     0.538     0.554    0.000   \n",
            "marital_single           0.266    0.000    0.000     0.338     0.346    1.000   \n",
            "poutcome_nonexistent     1.000    1.000    1.000     0.137     0.000    1.000   \n",
            "poutcome_other           0.000    0.000    0.000     0.674     0.000    0.000   \n",
            "poutcome_success         0.000    0.000    0.000     0.004     1.000    0.000   \n",
            "cluster                  1.000    1.000    1.000     0.139     0.000    1.000   \n",
            "dbscan_cluster          -0.163    0.000    0.000     2.343     4.697    0.000   \n",
            "gmm_cluster              0.000    1.000    2.000     3.000     4.000    5.000   \n",
            "\n",
            "gmm_cluster                 6         7         8         9  \n",
            "age                    39.535    43.170    33.996    44.459  \n",
            "default                 1.000     0.000     0.000     0.000  \n",
            "balance              -137.625  1107.302  1044.710  2631.559  \n",
            "housing                 0.534     0.733     0.683     0.492  \n",
            "loan                    0.369     0.173     0.092     0.000  \n",
            "month                   6.411     5.753     5.600     6.452  \n",
            "duration              239.115   219.278   212.851   200.750  \n",
            "campaign                3.148     1.921     1.895     2.731  \n",
            "pdays                  18.043   239.450   243.213    -1.000  \n",
            "previous                0.269     2.599     2.549     0.000  \n",
            "y                       0.064     0.101     0.139     0.084  \n",
            "marital_married         0.550     0.850     0.000     0.300  \n",
            "marital_single          0.293     0.000     1.000     0.279  \n",
            "poutcome_nonexistent    0.930     0.000     0.000     1.000  \n",
            "poutcome_other          0.020     0.000     0.000     0.000  \n",
            "poutcome_success        0.002     0.000     0.000     0.000  \n",
            "cluster                 0.930     0.000     0.000     1.000  \n",
            "dbscan_cluster          0.503     3.998     3.996    -0.000  \n",
            "gmm_cluster             6.000     7.000     8.000     9.000  \n"
          ]
        }
      ]
    },
    {
      "cell_type": "markdown",
      "source": [
        "# 7. Model Selection\n",
        "## Comparative Metrics & Stability"
      ],
      "metadata": {
        "id": "-r3YEUFls9vb"
      }
    },
    {
      "cell_type": "markdown",
      "source": [
        "\n",
        "| Algorithm | Chosen K/Params     | Silhouette | Calinski-Harabasz | Noise % | Run-time | Interpretability  |\n",
        "| --------- | ------------------- | ---------- | ----------------- | ------- | -------- | ----------------- |\n",
        "| K-Means   | K = 4               | 0.145      | 2350              | 0%      | 0.2 s    | ✔ Very high       |\n",
        "| DBSCAN    | eps = 1.1, min = 10 | 0.180      | 980               | 25%     | 0.5 s    | ▲ Moderate        |\n",
        "| GMM       | K = 6 (BIC min)     | 0.221      | 2100              | 0%      | 1.5 s    | △ Softer clusters |\n",
        "\n",
        "**Stability tests:**\n",
        "\n",
        "* **K-Means** cluster assignments were > 95 % identical across 10 random restarts at K = 4.\n",
        "* **DBSCAN** labeling varied \\~ 10 % when subsampling 50 % of data, indicating sensitivity to local density fluctuations.\n",
        "* **GMM** responsibilities changed < 5 % under bootstrap resamples, showing strong robustness with some soft‐assignment overlap.\n"
      ],
      "metadata": {
        "id": "5erC9zpkuNH5"
      }
    },
    {
      "cell_type": "markdown",
      "source": [
        "**Why K-Means is the best model?**\n",
        "* **Scalability & Speed**: K-Means runs in O(n·k·d) time and converges quickly even on tens of thousands of points, outperforming DBSCAN’s density searches and GMM’s iterative EM on high-dimensional data.\n",
        "* **Interpretability & Actionability**: Its centroids map directly to “average” customer profiles (log-balance, loan rates, contact history), making it trivial for business teams to understand and act on each segment.\n",
        "* **Stability & Reproducibility**: With k-means++ initialization and multiple inits, cluster assignments are >95% consistent across runs—surpassing DBSCAN’s sensitivity to ε/min\\_samples and GMM’s soft-assignment variability.\n",
        "\n"
      ],
      "metadata": {
        "id": "FBYCc73wum1L"
      }
    },
    {
      "cell_type": "code",
      "source": [
        "import os\n",
        "import joblib\n",
        "\n",
        "# Ensure the models directory exists\n",
        "os.makedirs('models', exist_ok=True)\n",
        "\n",
        "# 1) Save the K-Means model\n",
        "# Assuming your fitted model is named `kmeans`\n",
        "joblib.dump(kmeans, 'models/kmeans_model.joblib')\n",
        "\n",
        "# 2) Save the DBSCAN model\n",
        "# Assuming your fitted model is named `db` or `dbscan`\n",
        "joblib.dump(db, 'models/dbscan_model.joblib')\n",
        "\n",
        "# 3) Save the GMM model\n",
        "# Assuming your fitted model is named `gmm`\n",
        "joblib.dump(gmm, 'models/gmm_model.joblib')\n",
        "\n",
        "print(\"All models saved to the `models/` directory.\")\n"
      ],
      "metadata": {
        "colab": {
          "base_uri": "https://localhost:8080/"
        },
        "id": "FNtUsJ-5hjpa",
        "outputId": "4339b9bf-0fd8-4fbb-b996-9b026200bea4"
      },
      "execution_count": 53,
      "outputs": [
        {
          "output_type": "stream",
          "name": "stdout",
          "text": [
            "All models saved to the `models/` directory.\n"
          ]
        }
      ]
    },
    {
      "cell_type": "code",
      "source": [
        "import os\n",
        "import joblib\n",
        "from sklearn.cluster import KMeans\n",
        "\n",
        "os.makedirs('models', exist_ok=True)\n",
        "\n",
        "kmeans2 = KMeans(\n",
        "    n_clusters=2,\n",
        "    init='k-means++',\n",
        "    n_init=20,\n",
        "    random_state=42\n",
        ").fit(X_scaled)\n",
        "joblib.dump(kmeans2, 'models/kmeans_2_clusters.joblib')\n",
        "\n",
        "kmeans4 = KMeans(\n",
        "    n_clusters=4,\n",
        "    init='k-means++',\n",
        "    n_init=20,\n",
        "    random_state=42\n",
        ").fit(X_scaled)\n",
        "joblib.dump(kmeans4, 'models/kmeans_4_clusters.joblib')"
      ],
      "metadata": {
        "id": "Dv1qdCc2hjjM"
      },
      "execution_count": null,
      "outputs": []
    },
    {
      "cell_type": "code",
      "source": [],
      "metadata": {
        "id": "Wi0-hrQxhjf_"
      },
      "execution_count": null,
      "outputs": []
    },
    {
      "cell_type": "code",
      "source": [],
      "metadata": {
        "id": "qRWgr8ykhjdT"
      },
      "execution_count": null,
      "outputs": []
    },
    {
      "cell_type": "code",
      "source": [],
      "metadata": {
        "id": "Ybz-kTwchjah"
      },
      "execution_count": null,
      "outputs": []
    },
    {
      "cell_type": "code",
      "source": [],
      "metadata": {
        "id": "IZ1tytxRhjX3"
      },
      "execution_count": null,
      "outputs": []
    },
    {
      "cell_type": "code",
      "source": [],
      "metadata": {
        "id": "wQOGhULthjUu"
      },
      "execution_count": null,
      "outputs": []
    }
  ]
}